{
 "cells": [
  {
   "attachments": {},
   "cell_type": "markdown",
   "metadata": {},
   "source": [
    "# UK Property Data Exploration"
   ]
  },
  {
   "attachments": {},
   "cell_type": "markdown",
   "metadata": {},
   "source": [
    "## Import required libraries"
   ]
  },
  {
   "cell_type": "code",
   "execution_count": 1,
   "metadata": {},
   "outputs": [],
   "source": [
    "import pandas as pd"
   ]
  },
  {
   "attachments": {},
   "cell_type": "markdown",
   "metadata": {},
   "source": [
    "## Import data and fix data issues"
   ]
  },
  {
   "attachments": {},
   "cell_type": "markdown",
   "metadata": {},
   "source": [
    "### Data links and info\n",
    "https://www.gov.uk/government/statistical-data-sets/price-paid-data-downloads\n",
    "https://www.gov.uk/guidance/about-the-price-paid-data#data-excluded-from-price-paid-data"
   ]
  },
  {
   "cell_type": "code",
   "execution_count": 2,
   "metadata": {},
   "outputs": [],
   "source": [
    "# Import from csv\n",
    "price_paid_data = pd.read_csv(\"pp-complete.csv\", header=None)\n",
    "\n",
    "# Rename columns\n",
    "price_paid_data = price_paid_data.rename(columns={price_paid_data.columns[0]: 'transaction_id',\n",
    "                                                  price_paid_data.columns[1]: 'price',\n",
    "                                                  price_paid_data.columns[2]: 'transfer_date',\n",
    "                                                  price_paid_data.columns[3]: 'postcode',\n",
    "                                                  price_paid_data.columns[4]: 'property_type',\n",
    "                                                  price_paid_data.columns[5]: 'new_build_flag',\n",
    "                                                  price_paid_data.columns[6]: 'duration',\n",
    "                                                  price_paid_data.columns[7]: 'primary_address',\n",
    "                                                  price_paid_data.columns[8]: 'secondary_address',\n",
    "                                                  price_paid_data.columns[9]: 'street',\n",
    "                                                  price_paid_data.columns[10]: 'locality',\n",
    "                                                  price_paid_data.columns[11]: 'city',\n",
    "                                                  price_paid_data.columns[12]: 'district',\n",
    "                                                  price_paid_data.columns[13]: 'county',\n",
    "                                                  price_paid_data.columns[14]: 'ppd_category',\n",
    "                                                  price_paid_data.columns[15]: 'record_status'})\n",
    "\n",
    "# Remove brackets from transaction_id\n",
    "\n",
    "# Remove time from transfer_date"
   ]
  },
  {
   "cell_type": "code",
   "execution_count": null,
   "metadata": {},
   "outputs": [],
   "source": []
  },
  {
   "cell_type": "code",
   "execution_count": 3,
   "metadata": {},
   "outputs": [
    {
     "data": {
      "text/html": [
       "<div>\n",
       "<style scoped>\n",
       "    .dataframe tbody tr th:only-of-type {\n",
       "        vertical-align: middle;\n",
       "    }\n",
       "\n",
       "    .dataframe tbody tr th {\n",
       "        vertical-align: top;\n",
       "    }\n",
       "\n",
       "    .dataframe thead th {\n",
       "        text-align: right;\n",
       "    }\n",
       "</style>\n",
       "<table border=\"1\" class=\"dataframe\">\n",
       "  <thead>\n",
       "    <tr style=\"text-align: right;\">\n",
       "      <th></th>\n",
       "      <th>transaction_id</th>\n",
       "      <th>price</th>\n",
       "      <th>transfer_date</th>\n",
       "      <th>postcode</th>\n",
       "      <th>property_type</th>\n",
       "      <th>new_build_flag</th>\n",
       "      <th>duration</th>\n",
       "      <th>primary_address</th>\n",
       "      <th>secondary_address</th>\n",
       "      <th>street</th>\n",
       "      <th>locality</th>\n",
       "      <th>city</th>\n",
       "      <th>district</th>\n",
       "      <th>county</th>\n",
       "      <th>ppd_category</th>\n",
       "      <th>record_status</th>\n",
       "    </tr>\n",
       "  </thead>\n",
       "  <tbody>\n",
       "    <tr>\n",
       "      <th>0</th>\n",
       "      <td>{F887F88E-7D15-4415-804E-52EAC2F10958}</td>\n",
       "      <td>70000</td>\n",
       "      <td>1995-07-07 00:00</td>\n",
       "      <td>MK15 9HP</td>\n",
       "      <td>D</td>\n",
       "      <td>N</td>\n",
       "      <td>F</td>\n",
       "      <td>31</td>\n",
       "      <td>NaN</td>\n",
       "      <td>ALDRICH DRIVE</td>\n",
       "      <td>WILLEN</td>\n",
       "      <td>MILTON KEYNES</td>\n",
       "      <td>MILTON KEYNES</td>\n",
       "      <td>MILTON KEYNES</td>\n",
       "      <td>A</td>\n",
       "      <td>A</td>\n",
       "    </tr>\n",
       "    <tr>\n",
       "      <th>1</th>\n",
       "      <td>{40FD4DF2-5362-407C-92BC-566E2CCE89E9}</td>\n",
       "      <td>44500</td>\n",
       "      <td>1995-02-03 00:00</td>\n",
       "      <td>SR6 0AQ</td>\n",
       "      <td>T</td>\n",
       "      <td>N</td>\n",
       "      <td>F</td>\n",
       "      <td>50</td>\n",
       "      <td>NaN</td>\n",
       "      <td>HOWICK PARK</td>\n",
       "      <td>SUNDERLAND</td>\n",
       "      <td>SUNDERLAND</td>\n",
       "      <td>SUNDERLAND</td>\n",
       "      <td>TYNE AND WEAR</td>\n",
       "      <td>A</td>\n",
       "      <td>A</td>\n",
       "    </tr>\n",
       "    <tr>\n",
       "      <th>2</th>\n",
       "      <td>{7A99F89E-7D81-4E45-ABD5-566E49A045EA}</td>\n",
       "      <td>56500</td>\n",
       "      <td>1995-01-13 00:00</td>\n",
       "      <td>CO6 1SQ</td>\n",
       "      <td>T</td>\n",
       "      <td>N</td>\n",
       "      <td>F</td>\n",
       "      <td>19</td>\n",
       "      <td>NaN</td>\n",
       "      <td>BRICK KILN CLOSE</td>\n",
       "      <td>COGGESHALL</td>\n",
       "      <td>COLCHESTER</td>\n",
       "      <td>BRAINTREE</td>\n",
       "      <td>ESSEX</td>\n",
       "      <td>A</td>\n",
       "      <td>A</td>\n",
       "    </tr>\n",
       "    <tr>\n",
       "      <th>3</th>\n",
       "      <td>{28225260-E61C-4E57-8B56-566E5285B1C1}</td>\n",
       "      <td>58000</td>\n",
       "      <td>1995-07-28 00:00</td>\n",
       "      <td>B90 4TG</td>\n",
       "      <td>T</td>\n",
       "      <td>N</td>\n",
       "      <td>F</td>\n",
       "      <td>37</td>\n",
       "      <td>NaN</td>\n",
       "      <td>RAINSBROOK DRIVE</td>\n",
       "      <td>SHIRLEY</td>\n",
       "      <td>SOLIHULL</td>\n",
       "      <td>SOLIHULL</td>\n",
       "      <td>WEST MIDLANDS</td>\n",
       "      <td>A</td>\n",
       "      <td>A</td>\n",
       "    </tr>\n",
       "    <tr>\n",
       "      <th>4</th>\n",
       "      <td>{444D34D7-9BA6-43A7-B695-4F48980E0176}</td>\n",
       "      <td>51000</td>\n",
       "      <td>1995-06-28 00:00</td>\n",
       "      <td>DY5 1SA</td>\n",
       "      <td>S</td>\n",
       "      <td>N</td>\n",
       "      <td>F</td>\n",
       "      <td>59</td>\n",
       "      <td>NaN</td>\n",
       "      <td>MERRY HILL</td>\n",
       "      <td>BRIERLEY HILL</td>\n",
       "      <td>BRIERLEY HILL</td>\n",
       "      <td>DUDLEY</td>\n",
       "      <td>WEST MIDLANDS</td>\n",
       "      <td>A</td>\n",
       "      <td>A</td>\n",
       "    </tr>\n",
       "  </tbody>\n",
       "</table>\n",
       "</div>"
      ],
      "text/plain": [
       "                           transaction_id  price     transfer_date  postcode  \\\n",
       "0  {F887F88E-7D15-4415-804E-52EAC2F10958}  70000  1995-07-07 00:00  MK15 9HP   \n",
       "1  {40FD4DF2-5362-407C-92BC-566E2CCE89E9}  44500  1995-02-03 00:00   SR6 0AQ   \n",
       "2  {7A99F89E-7D81-4E45-ABD5-566E49A045EA}  56500  1995-01-13 00:00   CO6 1SQ   \n",
       "3  {28225260-E61C-4E57-8B56-566E5285B1C1}  58000  1995-07-28 00:00   B90 4TG   \n",
       "4  {444D34D7-9BA6-43A7-B695-4F48980E0176}  51000  1995-06-28 00:00   DY5 1SA   \n",
       "\n",
       "  property_type new_build_flag duration primary_address secondary_address  \\\n",
       "0             D              N        F              31               NaN   \n",
       "1             T              N        F              50               NaN   \n",
       "2             T              N        F              19               NaN   \n",
       "3             T              N        F              37               NaN   \n",
       "4             S              N        F              59               NaN   \n",
       "\n",
       "             street       locality           city       district  \\\n",
       "0     ALDRICH DRIVE         WILLEN  MILTON KEYNES  MILTON KEYNES   \n",
       "1       HOWICK PARK     SUNDERLAND     SUNDERLAND     SUNDERLAND   \n",
       "2  BRICK KILN CLOSE     COGGESHALL     COLCHESTER      BRAINTREE   \n",
       "3  RAINSBROOK DRIVE        SHIRLEY       SOLIHULL       SOLIHULL   \n",
       "4        MERRY HILL  BRIERLEY HILL  BRIERLEY HILL         DUDLEY   \n",
       "\n",
       "          county ppd_category record_status  \n",
       "0  MILTON KEYNES            A             A  \n",
       "1  TYNE AND WEAR            A             A  \n",
       "2          ESSEX            A             A  \n",
       "3  WEST MIDLANDS            A             A  \n",
       "4  WEST MIDLANDS            A             A  "
      ]
     },
     "execution_count": 3,
     "metadata": {},
     "output_type": "execute_result"
    }
   ],
   "source": [
    "price_paid_data.head()"
   ]
  },
  {
   "cell_type": "code",
   "execution_count": 4,
   "metadata": {},
   "outputs": [
    {
     "data": {
      "text/plain": [
       "'2023-09-29 00:00'"
      ]
     },
     "execution_count": 4,
     "metadata": {},
     "output_type": "execute_result"
    }
   ],
   "source": [
    "price_paid_data.transfer_date.max()"
   ]
  },
  {
   "cell_type": "code",
   "execution_count": 5,
   "metadata": {},
   "outputs": [
    {
     "data": {
      "text/html": [
       "<div>\n",
       "<style scoped>\n",
       "    .dataframe tbody tr th:only-of-type {\n",
       "        vertical-align: middle;\n",
       "    }\n",
       "\n",
       "    .dataframe tbody tr th {\n",
       "        vertical-align: top;\n",
       "    }\n",
       "\n",
       "    .dataframe thead th {\n",
       "        text-align: right;\n",
       "    }\n",
       "</style>\n",
       "<table border=\"1\" class=\"dataframe\">\n",
       "  <thead>\n",
       "    <tr style=\"text-align: right;\">\n",
       "      <th></th>\n",
       "      <th>transaction_id</th>\n",
       "      <th>price</th>\n",
       "      <th>transfer_date</th>\n",
       "      <th>postcode</th>\n",
       "      <th>property_type</th>\n",
       "      <th>new_build_flag</th>\n",
       "      <th>duration</th>\n",
       "      <th>primary_address</th>\n",
       "      <th>secondary_address</th>\n",
       "      <th>street</th>\n",
       "      <th>locality</th>\n",
       "      <th>city</th>\n",
       "      <th>district</th>\n",
       "      <th>county</th>\n",
       "      <th>ppd_category</th>\n",
       "      <th>record_status</th>\n",
       "    </tr>\n",
       "  </thead>\n",
       "  <tbody>\n",
       "    <tr>\n",
       "      <th>67261</th>\n",
       "      <td>{E9331642-EC29-44F8-BC5D-D56A8272B6BE}</td>\n",
       "      <td>51000</td>\n",
       "      <td>1995-07-28 00:00</td>\n",
       "      <td>SW17 9DT</td>\n",
       "      <td>F</td>\n",
       "      <td>N</td>\n",
       "      <td>L</td>\n",
       "      <td>87B</td>\n",
       "      <td>NaN</td>\n",
       "      <td>LYVEDEN ROAD</td>\n",
       "      <td>LONDON</td>\n",
       "      <td>LONDON</td>\n",
       "      <td>MERTON</td>\n",
       "      <td>GREATER LONDON</td>\n",
       "      <td>A</td>\n",
       "      <td>A</td>\n",
       "    </tr>\n",
       "    <tr>\n",
       "      <th>289037</th>\n",
       "      <td>{81BA2F5F-C690-4C70-9D3E-376EBABDC4E1}</td>\n",
       "      <td>86000</td>\n",
       "      <td>1995-05-12 00:00</td>\n",
       "      <td>SW17 9DT</td>\n",
       "      <td>S</td>\n",
       "      <td>N</td>\n",
       "      <td>F</td>\n",
       "      <td>35</td>\n",
       "      <td>NaN</td>\n",
       "      <td>LYVEDEN ROAD</td>\n",
       "      <td>LONDON</td>\n",
       "      <td>LONDON</td>\n",
       "      <td>MERTON</td>\n",
       "      <td>GREATER LONDON</td>\n",
       "      <td>A</td>\n",
       "      <td>A</td>\n",
       "    </tr>\n",
       "    <tr>\n",
       "      <th>350894</th>\n",
       "      <td>{D288430A-4CF0-42AB-8487-7312CC41679B}</td>\n",
       "      <td>53000</td>\n",
       "      <td>1995-08-24 00:00</td>\n",
       "      <td>SW17 9DT</td>\n",
       "      <td>F</td>\n",
       "      <td>N</td>\n",
       "      <td>L</td>\n",
       "      <td>25</td>\n",
       "      <td>FLAT 2</td>\n",
       "      <td>LYVEDEN ROAD</td>\n",
       "      <td>LONDON</td>\n",
       "      <td>LONDON</td>\n",
       "      <td>MERTON</td>\n",
       "      <td>GREATER LONDON</td>\n",
       "      <td>A</td>\n",
       "      <td>A</td>\n",
       "    </tr>\n",
       "    <tr>\n",
       "      <th>629018</th>\n",
       "      <td>{20D1F1EE-9BA0-4772-9161-77B19E0F4AC8}</td>\n",
       "      <td>67500</td>\n",
       "      <td>1995-05-25 00:00</td>\n",
       "      <td>SW17 9DT</td>\n",
       "      <td>T</td>\n",
       "      <td>N</td>\n",
       "      <td>F</td>\n",
       "      <td>109</td>\n",
       "      <td>NaN</td>\n",
       "      <td>LYVEDEN ROAD</td>\n",
       "      <td>LONDON</td>\n",
       "      <td>LONDON</td>\n",
       "      <td>MERTON</td>\n",
       "      <td>GREATER LONDON</td>\n",
       "      <td>A</td>\n",
       "      <td>A</td>\n",
       "    </tr>\n",
       "    <tr>\n",
       "      <th>686951</th>\n",
       "      <td>{182A6629-0680-438E-B682-99AE03F72E39}</td>\n",
       "      <td>61750</td>\n",
       "      <td>1995-02-03 00:00</td>\n",
       "      <td>SW17 9DT</td>\n",
       "      <td>T</td>\n",
       "      <td>N</td>\n",
       "      <td>F</td>\n",
       "      <td>73</td>\n",
       "      <td>NaN</td>\n",
       "      <td>LYVEDEN ROAD</td>\n",
       "      <td>LONDON</td>\n",
       "      <td>LONDON</td>\n",
       "      <td>MERTON</td>\n",
       "      <td>GREATER LONDON</td>\n",
       "      <td>A</td>\n",
       "      <td>A</td>\n",
       "    </tr>\n",
       "    <tr>\n",
       "      <th>...</th>\n",
       "      <td>...</td>\n",
       "      <td>...</td>\n",
       "      <td>...</td>\n",
       "      <td>...</td>\n",
       "      <td>...</td>\n",
       "      <td>...</td>\n",
       "      <td>...</td>\n",
       "      <td>...</td>\n",
       "      <td>...</td>\n",
       "      <td>...</td>\n",
       "      <td>...</td>\n",
       "      <td>...</td>\n",
       "      <td>...</td>\n",
       "      <td>...</td>\n",
       "      <td>...</td>\n",
       "      <td>...</td>\n",
       "    </tr>\n",
       "    <tr>\n",
       "      <th>27214284</th>\n",
       "      <td>{CFC9085C-FB4D-9A70-E053-6B04A8C09D6A}</td>\n",
       "      <td>560000</td>\n",
       "      <td>2021-06-11 00:00</td>\n",
       "      <td>SW17 9DT</td>\n",
       "      <td>T</td>\n",
       "      <td>N</td>\n",
       "      <td>F</td>\n",
       "      <td>65</td>\n",
       "      <td>NaN</td>\n",
       "      <td>LYVEDEN ROAD</td>\n",
       "      <td>NaN</td>\n",
       "      <td>LONDON</td>\n",
       "      <td>MERTON</td>\n",
       "      <td>GREATER LONDON</td>\n",
       "      <td>A</td>\n",
       "      <td>A</td>\n",
       "    </tr>\n",
       "    <tr>\n",
       "      <th>27305243</th>\n",
       "      <td>{D707E536-9023-0AD9-E053-6B04A8C067CC}</td>\n",
       "      <td>550000</td>\n",
       "      <td>2021-11-23 00:00</td>\n",
       "      <td>SW17 9DT</td>\n",
       "      <td>T</td>\n",
       "      <td>N</td>\n",
       "      <td>F</td>\n",
       "      <td>109</td>\n",
       "      <td>NaN</td>\n",
       "      <td>LYVEDEN ROAD</td>\n",
       "      <td>NaN</td>\n",
       "      <td>LONDON</td>\n",
       "      <td>MERTON</td>\n",
       "      <td>GREATER LONDON</td>\n",
       "      <td>B</td>\n",
       "      <td>A</td>\n",
       "    </tr>\n",
       "    <tr>\n",
       "      <th>27442723</th>\n",
       "      <td>{E53EDD2E-2F09-83EC-E053-6B04A8C03A59}</td>\n",
       "      <td>418000</td>\n",
       "      <td>2022-06-24 00:00</td>\n",
       "      <td>SW17 9DT</td>\n",
       "      <td>F</td>\n",
       "      <td>N</td>\n",
       "      <td>L</td>\n",
       "      <td>81</td>\n",
       "      <td>FLAT 1</td>\n",
       "      <td>LYVEDEN ROAD</td>\n",
       "      <td>NaN</td>\n",
       "      <td>LONDON</td>\n",
       "      <td>MERTON</td>\n",
       "      <td>GREATER LONDON</td>\n",
       "      <td>A</td>\n",
       "      <td>A</td>\n",
       "    </tr>\n",
       "    <tr>\n",
       "      <th>27484009</th>\n",
       "      <td>{D93B27B1-4855-3100-E053-6C04A8C08887}</td>\n",
       "      <td>415000</td>\n",
       "      <td>2022-01-27 00:00</td>\n",
       "      <td>SW17 9DT</td>\n",
       "      <td>F</td>\n",
       "      <td>N</td>\n",
       "      <td>L</td>\n",
       "      <td>81B</td>\n",
       "      <td>NaN</td>\n",
       "      <td>LYVEDEN ROAD</td>\n",
       "      <td>NaN</td>\n",
       "      <td>LONDON</td>\n",
       "      <td>MERTON</td>\n",
       "      <td>GREATER LONDON</td>\n",
       "      <td>A</td>\n",
       "      <td>A</td>\n",
       "    </tr>\n",
       "    <tr>\n",
       "      <th>28466126</th>\n",
       "      <td>{FD226036-3015-4CB7-E053-4804A8C00430}</td>\n",
       "      <td>474000</td>\n",
       "      <td>2023-05-09 00:00</td>\n",
       "      <td>SW17 9DT</td>\n",
       "      <td>F</td>\n",
       "      <td>N</td>\n",
       "      <td>L</td>\n",
       "      <td>23</td>\n",
       "      <td>GROUND FLOOR FLAT AT</td>\n",
       "      <td>LYVEDEN ROAD</td>\n",
       "      <td>NaN</td>\n",
       "      <td>LONDON</td>\n",
       "      <td>MERTON</td>\n",
       "      <td>GREATER LONDON</td>\n",
       "      <td>A</td>\n",
       "      <td>A</td>\n",
       "    </tr>\n",
       "  </tbody>\n",
       "</table>\n",
       "<p>126 rows × 16 columns</p>\n",
       "</div>"
      ],
      "text/plain": [
       "                                  transaction_id   price     transfer_date  \\\n",
       "67261     {E9331642-EC29-44F8-BC5D-D56A8272B6BE}   51000  1995-07-28 00:00   \n",
       "289037    {81BA2F5F-C690-4C70-9D3E-376EBABDC4E1}   86000  1995-05-12 00:00   \n",
       "350894    {D288430A-4CF0-42AB-8487-7312CC41679B}   53000  1995-08-24 00:00   \n",
       "629018    {20D1F1EE-9BA0-4772-9161-77B19E0F4AC8}   67500  1995-05-25 00:00   \n",
       "686951    {182A6629-0680-438E-B682-99AE03F72E39}   61750  1995-02-03 00:00   \n",
       "...                                          ...     ...               ...   \n",
       "27214284  {CFC9085C-FB4D-9A70-E053-6B04A8C09D6A}  560000  2021-06-11 00:00   \n",
       "27305243  {D707E536-9023-0AD9-E053-6B04A8C067CC}  550000  2021-11-23 00:00   \n",
       "27442723  {E53EDD2E-2F09-83EC-E053-6B04A8C03A59}  418000  2022-06-24 00:00   \n",
       "27484009  {D93B27B1-4855-3100-E053-6C04A8C08887}  415000  2022-01-27 00:00   \n",
       "28466126  {FD226036-3015-4CB7-E053-4804A8C00430}  474000  2023-05-09 00:00   \n",
       "\n",
       "          postcode property_type new_build_flag duration primary_address  \\\n",
       "67261     SW17 9DT             F              N        L             87B   \n",
       "289037    SW17 9DT             S              N        F              35   \n",
       "350894    SW17 9DT             F              N        L              25   \n",
       "629018    SW17 9DT             T              N        F             109   \n",
       "686951    SW17 9DT             T              N        F              73   \n",
       "...            ...           ...            ...      ...             ...   \n",
       "27214284  SW17 9DT             T              N        F              65   \n",
       "27305243  SW17 9DT             T              N        F             109   \n",
       "27442723  SW17 9DT             F              N        L              81   \n",
       "27484009  SW17 9DT             F              N        L             81B   \n",
       "28466126  SW17 9DT             F              N        L              23   \n",
       "\n",
       "             secondary_address        street locality    city district  \\\n",
       "67261                      NaN  LYVEDEN ROAD   LONDON  LONDON   MERTON   \n",
       "289037                     NaN  LYVEDEN ROAD   LONDON  LONDON   MERTON   \n",
       "350894                  FLAT 2  LYVEDEN ROAD   LONDON  LONDON   MERTON   \n",
       "629018                     NaN  LYVEDEN ROAD   LONDON  LONDON   MERTON   \n",
       "686951                     NaN  LYVEDEN ROAD   LONDON  LONDON   MERTON   \n",
       "...                        ...           ...      ...     ...      ...   \n",
       "27214284                   NaN  LYVEDEN ROAD      NaN  LONDON   MERTON   \n",
       "27305243                   NaN  LYVEDEN ROAD      NaN  LONDON   MERTON   \n",
       "27442723                FLAT 1  LYVEDEN ROAD      NaN  LONDON   MERTON   \n",
       "27484009                   NaN  LYVEDEN ROAD      NaN  LONDON   MERTON   \n",
       "28466126  GROUND FLOOR FLAT AT  LYVEDEN ROAD      NaN  LONDON   MERTON   \n",
       "\n",
       "                  county ppd_category record_status  \n",
       "67261     GREATER LONDON            A             A  \n",
       "289037    GREATER LONDON            A             A  \n",
       "350894    GREATER LONDON            A             A  \n",
       "629018    GREATER LONDON            A             A  \n",
       "686951    GREATER LONDON            A             A  \n",
       "...                  ...          ...           ...  \n",
       "27214284  GREATER LONDON            A             A  \n",
       "27305243  GREATER LONDON            B             A  \n",
       "27442723  GREATER LONDON            A             A  \n",
       "27484009  GREATER LONDON            A             A  \n",
       "28466126  GREATER LONDON            A             A  \n",
       "\n",
       "[126 rows x 16 columns]"
      ]
     },
     "execution_count": 5,
     "metadata": {},
     "output_type": "execute_result"
    }
   ],
   "source": [
    "price_paid_data.loc[price_paid_data.postcode == \"SW17 9DT\"]"
   ]
  },
  {
   "cell_type": "code",
   "execution_count": 6,
   "metadata": {},
   "outputs": [
    {
     "data": {
      "text/html": [
       "<div>\n",
       "<style scoped>\n",
       "    .dataframe tbody tr th:only-of-type {\n",
       "        vertical-align: middle;\n",
       "    }\n",
       "\n",
       "    .dataframe tbody tr th {\n",
       "        vertical-align: top;\n",
       "    }\n",
       "\n",
       "    .dataframe thead th {\n",
       "        text-align: right;\n",
       "    }\n",
       "</style>\n",
       "<table border=\"1\" class=\"dataframe\">\n",
       "  <thead>\n",
       "    <tr style=\"text-align: right;\">\n",
       "      <th></th>\n",
       "      <th>transaction_id</th>\n",
       "      <th>price</th>\n",
       "      <th>transfer_date</th>\n",
       "      <th>postcode</th>\n",
       "      <th>property_type</th>\n",
       "      <th>new_build_flag</th>\n",
       "      <th>duration</th>\n",
       "      <th>primary_address</th>\n",
       "      <th>secondary_address</th>\n",
       "      <th>street</th>\n",
       "      <th>locality</th>\n",
       "      <th>city</th>\n",
       "      <th>district</th>\n",
       "      <th>county</th>\n",
       "      <th>ppd_category</th>\n",
       "      <th>record_status</th>\n",
       "    </tr>\n",
       "  </thead>\n",
       "  <tbody>\n",
       "    <tr>\n",
       "      <th>1330262</th>\n",
       "      <td>{2672C88F-FD94-4F2B-BE40-ABE20235537C}</td>\n",
       "      <td>322000</td>\n",
       "      <td>1996-11-21 00:00</td>\n",
       "      <td>GU22 8QR</td>\n",
       "      <td>D</td>\n",
       "      <td>N</td>\n",
       "      <td>F</td>\n",
       "      <td>GRAN BAITA</td>\n",
       "      <td>NaN</td>\n",
       "      <td>PYRFORD WOODS ROAD</td>\n",
       "      <td>WOKING</td>\n",
       "      <td>WOKING</td>\n",
       "      <td>WOKING</td>\n",
       "      <td>SURREY</td>\n",
       "      <td>A</td>\n",
       "      <td>A</td>\n",
       "    </tr>\n",
       "    <tr>\n",
       "      <th>4236661</th>\n",
       "      <td>{5B60D6C1-1A89-49F4-9808-6BD997C01878}</td>\n",
       "      <td>460000</td>\n",
       "      <td>1999-03-17 00:00</td>\n",
       "      <td>GU22 8QR</td>\n",
       "      <td>D</td>\n",
       "      <td>N</td>\n",
       "      <td>F</td>\n",
       "      <td>CHATEAUGUAY</td>\n",
       "      <td>NaN</td>\n",
       "      <td>PYRFORD WOODS ROAD</td>\n",
       "      <td>NaN</td>\n",
       "      <td>WOKING</td>\n",
       "      <td>WOKING</td>\n",
       "      <td>SURREY</td>\n",
       "      <td>A</td>\n",
       "      <td>A</td>\n",
       "    </tr>\n",
       "    <tr>\n",
       "      <th>5248769</th>\n",
       "      <td>{B91DA968-1A44-45E0-BAB0-885D6A424280}</td>\n",
       "      <td>499950</td>\n",
       "      <td>2000-11-24 00:00</td>\n",
       "      <td>GU22 8QR</td>\n",
       "      <td>D</td>\n",
       "      <td>N</td>\n",
       "      <td>F</td>\n",
       "      <td>BIRCH BURROW</td>\n",
       "      <td>NaN</td>\n",
       "      <td>PYRFORD WOODS ROAD</td>\n",
       "      <td>NaN</td>\n",
       "      <td>WOKING</td>\n",
       "      <td>WOKING</td>\n",
       "      <td>SURREY</td>\n",
       "      <td>A</td>\n",
       "      <td>A</td>\n",
       "    </tr>\n",
       "    <tr>\n",
       "      <th>5326579</th>\n",
       "      <td>{FF333375-6C02-4941-A4A5-3E604D707522}</td>\n",
       "      <td>412500</td>\n",
       "      <td>2000-09-05 00:00</td>\n",
       "      <td>GU22 8QR</td>\n",
       "      <td>D</td>\n",
       "      <td>N</td>\n",
       "      <td>F</td>\n",
       "      <td>INCHMORE</td>\n",
       "      <td>NaN</td>\n",
       "      <td>PYRFORD WOODS ROAD</td>\n",
       "      <td>NaN</td>\n",
       "      <td>WOKING</td>\n",
       "      <td>WOKING</td>\n",
       "      <td>SURREY</td>\n",
       "      <td>A</td>\n",
       "      <td>A</td>\n",
       "    </tr>\n",
       "    <tr>\n",
       "      <th>6931928</th>\n",
       "      <td>{5C517103-A1FE-499C-B207-E562A7DA7FEF}</td>\n",
       "      <td>425000</td>\n",
       "      <td>2001-07-02 00:00</td>\n",
       "      <td>GU22 8QR</td>\n",
       "      <td>D</td>\n",
       "      <td>N</td>\n",
       "      <td>F</td>\n",
       "      <td>SENANG</td>\n",
       "      <td>NaN</td>\n",
       "      <td>PYRFORD WOODS ROAD</td>\n",
       "      <td>WOKING</td>\n",
       "      <td>WOKING</td>\n",
       "      <td>WOKING</td>\n",
       "      <td>SURREY</td>\n",
       "      <td>A</td>\n",
       "      <td>A</td>\n",
       "    </tr>\n",
       "    <tr>\n",
       "      <th>8803998</th>\n",
       "      <td>{77952907-3F84-49AA-BABE-441A023BFFDF}</td>\n",
       "      <td>485000</td>\n",
       "      <td>2002-11-12 00:00</td>\n",
       "      <td>GU22 8QR</td>\n",
       "      <td>D</td>\n",
       "      <td>N</td>\n",
       "      <td>F</td>\n",
       "      <td>RESTWYNDE</td>\n",
       "      <td>NaN</td>\n",
       "      <td>PYRFORD WOODS ROAD</td>\n",
       "      <td>WOKING</td>\n",
       "      <td>WOKING</td>\n",
       "      <td>WOKING</td>\n",
       "      <td>SURREY</td>\n",
       "      <td>A</td>\n",
       "      <td>A</td>\n",
       "    </tr>\n",
       "    <tr>\n",
       "      <th>11683864</th>\n",
       "      <td>{829E69B5-4C44-4DF2-A6BC-28E710AA22FE}</td>\n",
       "      <td>753000</td>\n",
       "      <td>2005-03-18 00:00</td>\n",
       "      <td>GU22 8QR</td>\n",
       "      <td>D</td>\n",
       "      <td>N</td>\n",
       "      <td>F</td>\n",
       "      <td>RESTWYNDE</td>\n",
       "      <td>NaN</td>\n",
       "      <td>PYRFORD WOODS ROAD</td>\n",
       "      <td>WOKING</td>\n",
       "      <td>WOKING</td>\n",
       "      <td>WOKING</td>\n",
       "      <td>SURREY</td>\n",
       "      <td>A</td>\n",
       "      <td>A</td>\n",
       "    </tr>\n",
       "    <tr>\n",
       "      <th>11871206</th>\n",
       "      <td>{FB18CE9D-20B7-4ADD-8129-0E1851BFAA47}</td>\n",
       "      <td>660000</td>\n",
       "      <td>2005-09-14 00:00</td>\n",
       "      <td>GU22 8QR</td>\n",
       "      <td>D</td>\n",
       "      <td>N</td>\n",
       "      <td>F</td>\n",
       "      <td>NEW HAVEN</td>\n",
       "      <td>NaN</td>\n",
       "      <td>PYRFORD WOODS ROAD</td>\n",
       "      <td>WOKING</td>\n",
       "      <td>WOKING</td>\n",
       "      <td>WOKING</td>\n",
       "      <td>SURREY</td>\n",
       "      <td>A</td>\n",
       "      <td>A</td>\n",
       "    </tr>\n",
       "    <tr>\n",
       "      <th>15950477</th>\n",
       "      <td>{A74C7EB5-9BF7-4874-9EEB-353810571BCE}</td>\n",
       "      <td>925000</td>\n",
       "      <td>2009-11-26 00:00</td>\n",
       "      <td>GU22 8QR</td>\n",
       "      <td>D</td>\n",
       "      <td>N</td>\n",
       "      <td>F</td>\n",
       "      <td>CHATEAUGUAY</td>\n",
       "      <td>NaN</td>\n",
       "      <td>PYRFORD WOODS ROAD</td>\n",
       "      <td>NaN</td>\n",
       "      <td>WOKING</td>\n",
       "      <td>WOKING</td>\n",
       "      <td>SURREY</td>\n",
       "      <td>A</td>\n",
       "      <td>A</td>\n",
       "    </tr>\n",
       "    <tr>\n",
       "      <th>20176657</th>\n",
       "      <td>{02E92A0F-FC38-4F6E-8348-AD3317728FDE}</td>\n",
       "      <td>1000000</td>\n",
       "      <td>2015-03-31 00:00</td>\n",
       "      <td>GU22 8QR</td>\n",
       "      <td>D</td>\n",
       "      <td>N</td>\n",
       "      <td>F</td>\n",
       "      <td>BROADWAY</td>\n",
       "      <td>NaN</td>\n",
       "      <td>PYRFORD WOODS ROAD</td>\n",
       "      <td>NaN</td>\n",
       "      <td>WOKING</td>\n",
       "      <td>WOKING</td>\n",
       "      <td>SURREY</td>\n",
       "      <td>A</td>\n",
       "      <td>A</td>\n",
       "    </tr>\n",
       "    <tr>\n",
       "      <th>21824111</th>\n",
       "      <td>{2FD36066-0937-4BF8-E050-A8C0620562B1}</td>\n",
       "      <td>1235000</td>\n",
       "      <td>2016-03-18 00:00</td>\n",
       "      <td>GU22 8QR</td>\n",
       "      <td>S</td>\n",
       "      <td>N</td>\n",
       "      <td>F</td>\n",
       "      <td>PIERREPONT HOUSE</td>\n",
       "      <td>NaN</td>\n",
       "      <td>PYRFORD WOODS ROAD</td>\n",
       "      <td>NaN</td>\n",
       "      <td>WOKING</td>\n",
       "      <td>WOKING</td>\n",
       "      <td>SURREY</td>\n",
       "      <td>A</td>\n",
       "      <td>A</td>\n",
       "    </tr>\n",
       "    <tr>\n",
       "      <th>24028857</th>\n",
       "      <td>{7C2D0700-A832-4963-E053-6B04A8C07B97}</td>\n",
       "      <td>1120000</td>\n",
       "      <td>2018-11-02 00:00</td>\n",
       "      <td>GU22 8QR</td>\n",
       "      <td>D</td>\n",
       "      <td>N</td>\n",
       "      <td>F</td>\n",
       "      <td>BROADWAY</td>\n",
       "      <td>NaN</td>\n",
       "      <td>PYRFORD WOODS ROAD</td>\n",
       "      <td>NaN</td>\n",
       "      <td>WOKING</td>\n",
       "      <td>WOKING</td>\n",
       "      <td>SURREY</td>\n",
       "      <td>A</td>\n",
       "      <td>A</td>\n",
       "    </tr>\n",
       "    <tr>\n",
       "      <th>24731510</th>\n",
       "      <td>{9DBAD222-3CB5-6EB3-E053-6B04A8C0F257}</td>\n",
       "      <td>850000</td>\n",
       "      <td>2019-12-13 00:00</td>\n",
       "      <td>GU22 8QR</td>\n",
       "      <td>D</td>\n",
       "      <td>N</td>\n",
       "      <td>F</td>\n",
       "      <td>BLAIR HOUSE</td>\n",
       "      <td>NaN</td>\n",
       "      <td>PYRFORD WOODS ROAD</td>\n",
       "      <td>NaN</td>\n",
       "      <td>WOKING</td>\n",
       "      <td>WOKING</td>\n",
       "      <td>SURREY</td>\n",
       "      <td>A</td>\n",
       "      <td>A</td>\n",
       "    </tr>\n",
       "    <tr>\n",
       "      <th>25885136</th>\n",
       "      <td>{AC07BBD0-7187-0445-E053-6C04A8C01E31}</td>\n",
       "      <td>1110000</td>\n",
       "      <td>2020-05-20 00:00</td>\n",
       "      <td>GU22 8QR</td>\n",
       "      <td>D</td>\n",
       "      <td>N</td>\n",
       "      <td>F</td>\n",
       "      <td>GRAFTON HOUSE</td>\n",
       "      <td>NaN</td>\n",
       "      <td>PYRFORD WOODS ROAD</td>\n",
       "      <td>NaN</td>\n",
       "      <td>WOKING</td>\n",
       "      <td>WOKING</td>\n",
       "      <td>SURREY</td>\n",
       "      <td>A</td>\n",
       "      <td>A</td>\n",
       "    </tr>\n",
       "    <tr>\n",
       "      <th>26228488</th>\n",
       "      <td>{CD5A9DCC-5CB2-310A-E053-6C04A8C00A1F}</td>\n",
       "      <td>1395000</td>\n",
       "      <td>2021-02-10 00:00</td>\n",
       "      <td>GU22 8QR</td>\n",
       "      <td>D</td>\n",
       "      <td>N</td>\n",
       "      <td>F</td>\n",
       "      <td>BLAIR HOUSE</td>\n",
       "      <td>NaN</td>\n",
       "      <td>PYRFORD WOODS ROAD</td>\n",
       "      <td>NaN</td>\n",
       "      <td>WOKING</td>\n",
       "      <td>WOKING</td>\n",
       "      <td>SURREY</td>\n",
       "      <td>A</td>\n",
       "      <td>A</td>\n",
       "    </tr>\n",
       "    <tr>\n",
       "      <th>26910816</th>\n",
       "      <td>{D4D42646-5ABF-27F6-E053-6C04A8C0A572}</td>\n",
       "      <td>1500000</td>\n",
       "      <td>2021-03-17 00:00</td>\n",
       "      <td>GU22 8QR</td>\n",
       "      <td>D</td>\n",
       "      <td>N</td>\n",
       "      <td>F</td>\n",
       "      <td>GRAFTON HOUSE</td>\n",
       "      <td>NaN</td>\n",
       "      <td>PYRFORD WOODS ROAD</td>\n",
       "      <td>NaN</td>\n",
       "      <td>WOKING</td>\n",
       "      <td>WOKING</td>\n",
       "      <td>SURREY</td>\n",
       "      <td>A</td>\n",
       "      <td>A</td>\n",
       "    </tr>\n",
       "  </tbody>\n",
       "</table>\n",
       "</div>"
      ],
      "text/plain": [
       "                                  transaction_id    price     transfer_date  \\\n",
       "1330262   {2672C88F-FD94-4F2B-BE40-ABE20235537C}   322000  1996-11-21 00:00   \n",
       "4236661   {5B60D6C1-1A89-49F4-9808-6BD997C01878}   460000  1999-03-17 00:00   \n",
       "5248769   {B91DA968-1A44-45E0-BAB0-885D6A424280}   499950  2000-11-24 00:00   \n",
       "5326579   {FF333375-6C02-4941-A4A5-3E604D707522}   412500  2000-09-05 00:00   \n",
       "6931928   {5C517103-A1FE-499C-B207-E562A7DA7FEF}   425000  2001-07-02 00:00   \n",
       "8803998   {77952907-3F84-49AA-BABE-441A023BFFDF}   485000  2002-11-12 00:00   \n",
       "11683864  {829E69B5-4C44-4DF2-A6BC-28E710AA22FE}   753000  2005-03-18 00:00   \n",
       "11871206  {FB18CE9D-20B7-4ADD-8129-0E1851BFAA47}   660000  2005-09-14 00:00   \n",
       "15950477  {A74C7EB5-9BF7-4874-9EEB-353810571BCE}   925000  2009-11-26 00:00   \n",
       "20176657  {02E92A0F-FC38-4F6E-8348-AD3317728FDE}  1000000  2015-03-31 00:00   \n",
       "21824111  {2FD36066-0937-4BF8-E050-A8C0620562B1}  1235000  2016-03-18 00:00   \n",
       "24028857  {7C2D0700-A832-4963-E053-6B04A8C07B97}  1120000  2018-11-02 00:00   \n",
       "24731510  {9DBAD222-3CB5-6EB3-E053-6B04A8C0F257}   850000  2019-12-13 00:00   \n",
       "25885136  {AC07BBD0-7187-0445-E053-6C04A8C01E31}  1110000  2020-05-20 00:00   \n",
       "26228488  {CD5A9DCC-5CB2-310A-E053-6C04A8C00A1F}  1395000  2021-02-10 00:00   \n",
       "26910816  {D4D42646-5ABF-27F6-E053-6C04A8C0A572}  1500000  2021-03-17 00:00   \n",
       "\n",
       "          postcode property_type new_build_flag duration   primary_address  \\\n",
       "1330262   GU22 8QR             D              N        F        GRAN BAITA   \n",
       "4236661   GU22 8QR             D              N        F       CHATEAUGUAY   \n",
       "5248769   GU22 8QR             D              N        F      BIRCH BURROW   \n",
       "5326579   GU22 8QR             D              N        F          INCHMORE   \n",
       "6931928   GU22 8QR             D              N        F            SENANG   \n",
       "8803998   GU22 8QR             D              N        F         RESTWYNDE   \n",
       "11683864  GU22 8QR             D              N        F         RESTWYNDE   \n",
       "11871206  GU22 8QR             D              N        F         NEW HAVEN   \n",
       "15950477  GU22 8QR             D              N        F       CHATEAUGUAY   \n",
       "20176657  GU22 8QR             D              N        F          BROADWAY   \n",
       "21824111  GU22 8QR             S              N        F  PIERREPONT HOUSE   \n",
       "24028857  GU22 8QR             D              N        F          BROADWAY   \n",
       "24731510  GU22 8QR             D              N        F       BLAIR HOUSE   \n",
       "25885136  GU22 8QR             D              N        F     GRAFTON HOUSE   \n",
       "26228488  GU22 8QR             D              N        F       BLAIR HOUSE   \n",
       "26910816  GU22 8QR             D              N        F     GRAFTON HOUSE   \n",
       "\n",
       "         secondary_address              street locality    city district  \\\n",
       "1330262                NaN  PYRFORD WOODS ROAD   WOKING  WOKING   WOKING   \n",
       "4236661                NaN  PYRFORD WOODS ROAD      NaN  WOKING   WOKING   \n",
       "5248769                NaN  PYRFORD WOODS ROAD      NaN  WOKING   WOKING   \n",
       "5326579                NaN  PYRFORD WOODS ROAD      NaN  WOKING   WOKING   \n",
       "6931928                NaN  PYRFORD WOODS ROAD   WOKING  WOKING   WOKING   \n",
       "8803998                NaN  PYRFORD WOODS ROAD   WOKING  WOKING   WOKING   \n",
       "11683864               NaN  PYRFORD WOODS ROAD   WOKING  WOKING   WOKING   \n",
       "11871206               NaN  PYRFORD WOODS ROAD   WOKING  WOKING   WOKING   \n",
       "15950477               NaN  PYRFORD WOODS ROAD      NaN  WOKING   WOKING   \n",
       "20176657               NaN  PYRFORD WOODS ROAD      NaN  WOKING   WOKING   \n",
       "21824111               NaN  PYRFORD WOODS ROAD      NaN  WOKING   WOKING   \n",
       "24028857               NaN  PYRFORD WOODS ROAD      NaN  WOKING   WOKING   \n",
       "24731510               NaN  PYRFORD WOODS ROAD      NaN  WOKING   WOKING   \n",
       "25885136               NaN  PYRFORD WOODS ROAD      NaN  WOKING   WOKING   \n",
       "26228488               NaN  PYRFORD WOODS ROAD      NaN  WOKING   WOKING   \n",
       "26910816               NaN  PYRFORD WOODS ROAD      NaN  WOKING   WOKING   \n",
       "\n",
       "          county ppd_category record_status  \n",
       "1330262   SURREY            A             A  \n",
       "4236661   SURREY            A             A  \n",
       "5248769   SURREY            A             A  \n",
       "5326579   SURREY            A             A  \n",
       "6931928   SURREY            A             A  \n",
       "8803998   SURREY            A             A  \n",
       "11683864  SURREY            A             A  \n",
       "11871206  SURREY            A             A  \n",
       "15950477  SURREY            A             A  \n",
       "20176657  SURREY            A             A  \n",
       "21824111  SURREY            A             A  \n",
       "24028857  SURREY            A             A  \n",
       "24731510  SURREY            A             A  \n",
       "25885136  SURREY            A             A  \n",
       "26228488  SURREY            A             A  \n",
       "26910816  SURREY            A             A  "
      ]
     },
     "execution_count": 6,
     "metadata": {},
     "output_type": "execute_result"
    }
   ],
   "source": [
    "price_paid_data.loc[price_paid_data.postcode == \"GU22 8QR\"]"
   ]
  },
  {
   "cell_type": "code",
   "execution_count": 7,
   "metadata": {},
   "outputs": [
    {
     "data": {
      "text/html": [
       "<div>\n",
       "<style scoped>\n",
       "    .dataframe tbody tr th:only-of-type {\n",
       "        vertical-align: middle;\n",
       "    }\n",
       "\n",
       "    .dataframe tbody tr th {\n",
       "        vertical-align: top;\n",
       "    }\n",
       "\n",
       "    .dataframe thead th {\n",
       "        text-align: right;\n",
       "    }\n",
       "</style>\n",
       "<table border=\"1\" class=\"dataframe\">\n",
       "  <thead>\n",
       "    <tr style=\"text-align: right;\">\n",
       "      <th></th>\n",
       "      <th>transaction_id</th>\n",
       "      <th>price</th>\n",
       "      <th>transfer_date</th>\n",
       "      <th>postcode</th>\n",
       "      <th>property_type</th>\n",
       "      <th>new_build_flag</th>\n",
       "      <th>duration</th>\n",
       "      <th>primary_address</th>\n",
       "      <th>secondary_address</th>\n",
       "      <th>street</th>\n",
       "      <th>locality</th>\n",
       "      <th>city</th>\n",
       "      <th>district</th>\n",
       "      <th>county</th>\n",
       "      <th>ppd_category</th>\n",
       "      <th>record_status</th>\n",
       "    </tr>\n",
       "  </thead>\n",
       "  <tbody>\n",
       "    <tr>\n",
       "      <th>97913</th>\n",
       "      <td>{E24370D9-80C9-43CA-BEF5-C041CAEF9150}</td>\n",
       "      <td>192450</td>\n",
       "      <td>1995-11-16 00:00</td>\n",
       "      <td>TN6 2HN</td>\n",
       "      <td>D</td>\n",
       "      <td>Y</td>\n",
       "      <td>F</td>\n",
       "      <td>2</td>\n",
       "      <td>NaN</td>\n",
       "      <td>OSBORNE ROAD</td>\n",
       "      <td>CROWBOROUGH</td>\n",
       "      <td>CROWBOROUGH</td>\n",
       "      <td>WEALDEN</td>\n",
       "      <td>EAST SUSSEX</td>\n",
       "      <td>A</td>\n",
       "      <td>A</td>\n",
       "    </tr>\n",
       "    <tr>\n",
       "      <th>102436</th>\n",
       "      <td>{740801F1-EF9C-43B2-B4CC-CB702550F2F9}</td>\n",
       "      <td>197000</td>\n",
       "      <td>1995-05-26 00:00</td>\n",
       "      <td>TN6 2HN</td>\n",
       "      <td>D</td>\n",
       "      <td>Y</td>\n",
       "      <td>F</td>\n",
       "      <td>23</td>\n",
       "      <td>NaN</td>\n",
       "      <td>OSBORNE ROAD</td>\n",
       "      <td>CROWBOROUGH</td>\n",
       "      <td>CROWBOROUGH</td>\n",
       "      <td>WEALDEN</td>\n",
       "      <td>EAST SUSSEX</td>\n",
       "      <td>A</td>\n",
       "      <td>A</td>\n",
       "    </tr>\n",
       "    <tr>\n",
       "      <th>116751</th>\n",
       "      <td>{94C60664-EE7C-4EBB-8509-3D19D13C2B12}</td>\n",
       "      <td>188000</td>\n",
       "      <td>1995-01-27 00:00</td>\n",
       "      <td>TN6 2HN</td>\n",
       "      <td>D</td>\n",
       "      <td>Y</td>\n",
       "      <td>F</td>\n",
       "      <td>19</td>\n",
       "      <td>NaN</td>\n",
       "      <td>OSBORNE ROAD</td>\n",
       "      <td>CROWBOROUGH</td>\n",
       "      <td>CROWBOROUGH</td>\n",
       "      <td>WEALDEN</td>\n",
       "      <td>EAST SUSSEX</td>\n",
       "      <td>A</td>\n",
       "      <td>A</td>\n",
       "    </tr>\n",
       "    <tr>\n",
       "      <th>152414</th>\n",
       "      <td>{F2A089D0-8484-4915-A130-486A7B72B428}</td>\n",
       "      <td>192000</td>\n",
       "      <td>1995-06-30 00:00</td>\n",
       "      <td>TN6 2HN</td>\n",
       "      <td>D</td>\n",
       "      <td>Y</td>\n",
       "      <td>F</td>\n",
       "      <td>16</td>\n",
       "      <td>NaN</td>\n",
       "      <td>OSBORNE ROAD</td>\n",
       "      <td>CROWBOROUGH</td>\n",
       "      <td>CROWBOROUGH</td>\n",
       "      <td>WEALDEN</td>\n",
       "      <td>EAST SUSSEX</td>\n",
       "      <td>A</td>\n",
       "      <td>A</td>\n",
       "    </tr>\n",
       "    <tr>\n",
       "      <th>211086</th>\n",
       "      <td>{21F9454E-C7DA-41F5-867F-5FBDBE879E45}</td>\n",
       "      <td>188500</td>\n",
       "      <td>1995-03-24 00:00</td>\n",
       "      <td>TN6 2HN</td>\n",
       "      <td>D</td>\n",
       "      <td>Y</td>\n",
       "      <td>F</td>\n",
       "      <td>15</td>\n",
       "      <td>NaN</td>\n",
       "      <td>OSBORNE ROAD</td>\n",
       "      <td>CROWBOROUGH</td>\n",
       "      <td>CROWBOROUGH</td>\n",
       "      <td>WEALDEN</td>\n",
       "      <td>EAST SUSSEX</td>\n",
       "      <td>A</td>\n",
       "      <td>A</td>\n",
       "    </tr>\n",
       "    <tr>\n",
       "      <th>...</th>\n",
       "      <td>...</td>\n",
       "      <td>...</td>\n",
       "      <td>...</td>\n",
       "      <td>...</td>\n",
       "      <td>...</td>\n",
       "      <td>...</td>\n",
       "      <td>...</td>\n",
       "      <td>...</td>\n",
       "      <td>...</td>\n",
       "      <td>...</td>\n",
       "      <td>...</td>\n",
       "      <td>...</td>\n",
       "      <td>...</td>\n",
       "      <td>...</td>\n",
       "      <td>...</td>\n",
       "      <td>...</td>\n",
       "    </tr>\n",
       "    <tr>\n",
       "      <th>25718693</th>\n",
       "      <td>{B82222EC-BB16-6691-E053-6B04A8C02FB2}</td>\n",
       "      <td>645000</td>\n",
       "      <td>2020-11-09 00:00</td>\n",
       "      <td>TN6 2HN</td>\n",
       "      <td>D</td>\n",
       "      <td>N</td>\n",
       "      <td>F</td>\n",
       "      <td>IVY LODGE</td>\n",
       "      <td>NaN</td>\n",
       "      <td>OSBORNE ROAD</td>\n",
       "      <td>NaN</td>\n",
       "      <td>CROWBOROUGH</td>\n",
       "      <td>WEALDEN</td>\n",
       "      <td>EAST SUSSEX</td>\n",
       "      <td>A</td>\n",
       "      <td>A</td>\n",
       "    </tr>\n",
       "    <tr>\n",
       "      <th>26125984</th>\n",
       "      <td>{D707E535-2183-0AD9-E053-6B04A8C067CC}</td>\n",
       "      <td>687500</td>\n",
       "      <td>2021-08-31 00:00</td>\n",
       "      <td>TN6 2HN</td>\n",
       "      <td>D</td>\n",
       "      <td>N</td>\n",
       "      <td>F</td>\n",
       "      <td>14</td>\n",
       "      <td>NaN</td>\n",
       "      <td>OSBORNE ROAD</td>\n",
       "      <td>NaN</td>\n",
       "      <td>CROWBOROUGH</td>\n",
       "      <td>WEALDEN</td>\n",
       "      <td>EAST SUSSEX</td>\n",
       "      <td>A</td>\n",
       "      <td>A</td>\n",
       "    </tr>\n",
       "    <tr>\n",
       "      <th>26429714</th>\n",
       "      <td>{CB0035E5-B77E-58AE-E053-6B04A8C091AF}</td>\n",
       "      <td>795000</td>\n",
       "      <td>2021-04-28 00:00</td>\n",
       "      <td>TN6 2HN</td>\n",
       "      <td>D</td>\n",
       "      <td>N</td>\n",
       "      <td>F</td>\n",
       "      <td>19</td>\n",
       "      <td>NaN</td>\n",
       "      <td>OSBORNE ROAD</td>\n",
       "      <td>NaN</td>\n",
       "      <td>CROWBOROUGH</td>\n",
       "      <td>WEALDEN</td>\n",
       "      <td>EAST SUSSEX</td>\n",
       "      <td>A</td>\n",
       "      <td>A</td>\n",
       "    </tr>\n",
       "    <tr>\n",
       "      <th>26730125</th>\n",
       "      <td>{D22473F6-7A19-7B40-E053-6C04A8C0A630}</td>\n",
       "      <td>550000</td>\n",
       "      <td>2021-06-28 00:00</td>\n",
       "      <td>TN6 2HN</td>\n",
       "      <td>D</td>\n",
       "      <td>N</td>\n",
       "      <td>F</td>\n",
       "      <td>FERNDELL</td>\n",
       "      <td>NaN</td>\n",
       "      <td>OSBORNE ROAD</td>\n",
       "      <td>NaN</td>\n",
       "      <td>CROWBOROUGH</td>\n",
       "      <td>WEALDEN</td>\n",
       "      <td>EAST SUSSEX</td>\n",
       "      <td>B</td>\n",
       "      <td>A</td>\n",
       "    </tr>\n",
       "    <tr>\n",
       "      <th>26978466</th>\n",
       "      <td>{D93B27B0-98BD-3100-E053-6C04A8C08887}</td>\n",
       "      <td>725000</td>\n",
       "      <td>2021-12-10 00:00</td>\n",
       "      <td>TN6 2HN</td>\n",
       "      <td>D</td>\n",
       "      <td>N</td>\n",
       "      <td>F</td>\n",
       "      <td>18</td>\n",
       "      <td>NaN</td>\n",
       "      <td>OSBORNE ROAD</td>\n",
       "      <td>NaN</td>\n",
       "      <td>CROWBOROUGH</td>\n",
       "      <td>WEALDEN</td>\n",
       "      <td>EAST SUSSEX</td>\n",
       "      <td>A</td>\n",
       "      <td>A</td>\n",
       "    </tr>\n",
       "  </tbody>\n",
       "</table>\n",
       "<p>67 rows × 16 columns</p>\n",
       "</div>"
      ],
      "text/plain": [
       "                                  transaction_id   price     transfer_date  \\\n",
       "97913     {E24370D9-80C9-43CA-BEF5-C041CAEF9150}  192450  1995-11-16 00:00   \n",
       "102436    {740801F1-EF9C-43B2-B4CC-CB702550F2F9}  197000  1995-05-26 00:00   \n",
       "116751    {94C60664-EE7C-4EBB-8509-3D19D13C2B12}  188000  1995-01-27 00:00   \n",
       "152414    {F2A089D0-8484-4915-A130-486A7B72B428}  192000  1995-06-30 00:00   \n",
       "211086    {21F9454E-C7DA-41F5-867F-5FBDBE879E45}  188500  1995-03-24 00:00   \n",
       "...                                          ...     ...               ...   \n",
       "25718693  {B82222EC-BB16-6691-E053-6B04A8C02FB2}  645000  2020-11-09 00:00   \n",
       "26125984  {D707E535-2183-0AD9-E053-6B04A8C067CC}  687500  2021-08-31 00:00   \n",
       "26429714  {CB0035E5-B77E-58AE-E053-6B04A8C091AF}  795000  2021-04-28 00:00   \n",
       "26730125  {D22473F6-7A19-7B40-E053-6C04A8C0A630}  550000  2021-06-28 00:00   \n",
       "26978466  {D93B27B0-98BD-3100-E053-6C04A8C08887}  725000  2021-12-10 00:00   \n",
       "\n",
       "         postcode property_type new_build_flag duration primary_address  \\\n",
       "97913     TN6 2HN             D              Y        F               2   \n",
       "102436    TN6 2HN             D              Y        F              23   \n",
       "116751    TN6 2HN             D              Y        F              19   \n",
       "152414    TN6 2HN             D              Y        F              16   \n",
       "211086    TN6 2HN             D              Y        F              15   \n",
       "...           ...           ...            ...      ...             ...   \n",
       "25718693  TN6 2HN             D              N        F       IVY LODGE   \n",
       "26125984  TN6 2HN             D              N        F              14   \n",
       "26429714  TN6 2HN             D              N        F              19   \n",
       "26730125  TN6 2HN             D              N        F        FERNDELL   \n",
       "26978466  TN6 2HN             D              N        F              18   \n",
       "\n",
       "         secondary_address        street     locality         city district  \\\n",
       "97913                  NaN  OSBORNE ROAD  CROWBOROUGH  CROWBOROUGH  WEALDEN   \n",
       "102436                 NaN  OSBORNE ROAD  CROWBOROUGH  CROWBOROUGH  WEALDEN   \n",
       "116751                 NaN  OSBORNE ROAD  CROWBOROUGH  CROWBOROUGH  WEALDEN   \n",
       "152414                 NaN  OSBORNE ROAD  CROWBOROUGH  CROWBOROUGH  WEALDEN   \n",
       "211086                 NaN  OSBORNE ROAD  CROWBOROUGH  CROWBOROUGH  WEALDEN   \n",
       "...                    ...           ...          ...          ...      ...   \n",
       "25718693               NaN  OSBORNE ROAD          NaN  CROWBOROUGH  WEALDEN   \n",
       "26125984               NaN  OSBORNE ROAD          NaN  CROWBOROUGH  WEALDEN   \n",
       "26429714               NaN  OSBORNE ROAD          NaN  CROWBOROUGH  WEALDEN   \n",
       "26730125               NaN  OSBORNE ROAD          NaN  CROWBOROUGH  WEALDEN   \n",
       "26978466               NaN  OSBORNE ROAD          NaN  CROWBOROUGH  WEALDEN   \n",
       "\n",
       "               county ppd_category record_status  \n",
       "97913     EAST SUSSEX            A             A  \n",
       "102436    EAST SUSSEX            A             A  \n",
       "116751    EAST SUSSEX            A             A  \n",
       "152414    EAST SUSSEX            A             A  \n",
       "211086    EAST SUSSEX            A             A  \n",
       "...               ...          ...           ...  \n",
       "25718693  EAST SUSSEX            A             A  \n",
       "26125984  EAST SUSSEX            A             A  \n",
       "26429714  EAST SUSSEX            A             A  \n",
       "26730125  EAST SUSSEX            B             A  \n",
       "26978466  EAST SUSSEX            A             A  \n",
       "\n",
       "[67 rows x 16 columns]"
      ]
     },
     "execution_count": 7,
     "metadata": {},
     "output_type": "execute_result"
    }
   ],
   "source": [
    "price_paid_data.loc[(price_paid_data.postcode == \"TN6 2HN\") & (price_paid_data.street==\"OSBORNE ROAD\")].head(70)"
   ]
  },
  {
   "cell_type": "code",
   "execution_count": 8,
   "metadata": {},
   "outputs": [
    {
     "data": {
      "text/html": [
       "<div>\n",
       "<style scoped>\n",
       "    .dataframe tbody tr th:only-of-type {\n",
       "        vertical-align: middle;\n",
       "    }\n",
       "\n",
       "    .dataframe tbody tr th {\n",
       "        vertical-align: top;\n",
       "    }\n",
       "\n",
       "    .dataframe thead th {\n",
       "        text-align: right;\n",
       "    }\n",
       "</style>\n",
       "<table border=\"1\" class=\"dataframe\">\n",
       "  <thead>\n",
       "    <tr style=\"text-align: right;\">\n",
       "      <th></th>\n",
       "      <th>transaction_id</th>\n",
       "      <th>price</th>\n",
       "      <th>transfer_date</th>\n",
       "      <th>postcode</th>\n",
       "      <th>property_type</th>\n",
       "      <th>new_build_flag</th>\n",
       "      <th>duration</th>\n",
       "      <th>primary_address</th>\n",
       "      <th>secondary_address</th>\n",
       "      <th>street</th>\n",
       "      <th>locality</th>\n",
       "      <th>city</th>\n",
       "      <th>district</th>\n",
       "      <th>county</th>\n",
       "      <th>ppd_category</th>\n",
       "      <th>record_status</th>\n",
       "    </tr>\n",
       "  </thead>\n",
       "  <tbody>\n",
       "    <tr>\n",
       "      <th>1965720</th>\n",
       "      <td>{2A289E9D-32D1-CDC8-E050-A8C063054829}</td>\n",
       "      <td>46250</td>\n",
       "      <td>1997-04-24 00:00</td>\n",
       "      <td>SW9 0NU</td>\n",
       "      <td>F</td>\n",
       "      <td>N</td>\n",
       "      <td>L</td>\n",
       "      <td>131</td>\n",
       "      <td>NaN</td>\n",
       "      <td>CRANWORTH GARDENS</td>\n",
       "      <td>NaN</td>\n",
       "      <td>LONDON</td>\n",
       "      <td>LAMBETH</td>\n",
       "      <td>GREATER LONDON</td>\n",
       "      <td>A</td>\n",
       "      <td>A</td>\n",
       "    </tr>\n",
       "    <tr>\n",
       "      <th>4412078</th>\n",
       "      <td>{86F65D75-6E28-402F-82B6-C73AD36288BE}</td>\n",
       "      <td>184500</td>\n",
       "      <td>1999-11-22 00:00</td>\n",
       "      <td>SW9 0NU</td>\n",
       "      <td>F</td>\n",
       "      <td>N</td>\n",
       "      <td>L</td>\n",
       "      <td>131</td>\n",
       "      <td>NaN</td>\n",
       "      <td>CRANWORTH GARDENS</td>\n",
       "      <td>NaN</td>\n",
       "      <td>LONDON</td>\n",
       "      <td>LAMBETH</td>\n",
       "      <td>GREATER LONDON</td>\n",
       "      <td>A</td>\n",
       "      <td>A</td>\n",
       "    </tr>\n",
       "    <tr>\n",
       "      <th>7501987</th>\n",
       "      <td>{025517EC-0094-4EC0-BA50-498DEEDA3D2D}</td>\n",
       "      <td>250000</td>\n",
       "      <td>2002-05-10 00:00</td>\n",
       "      <td>SW9 0NU</td>\n",
       "      <td>F</td>\n",
       "      <td>N</td>\n",
       "      <td>L</td>\n",
       "      <td>131</td>\n",
       "      <td>NaN</td>\n",
       "      <td>CRANWORTH GARDENS</td>\n",
       "      <td>LONDON</td>\n",
       "      <td>LONDON</td>\n",
       "      <td>LAMBETH</td>\n",
       "      <td>GREATER LONDON</td>\n",
       "      <td>A</td>\n",
       "      <td>A</td>\n",
       "    </tr>\n",
       "  </tbody>\n",
       "</table>\n",
       "</div>"
      ],
      "text/plain": [
       "                                 transaction_id   price     transfer_date  \\\n",
       "1965720  {2A289E9D-32D1-CDC8-E050-A8C063054829}   46250  1997-04-24 00:00   \n",
       "4412078  {86F65D75-6E28-402F-82B6-C73AD36288BE}  184500  1999-11-22 00:00   \n",
       "7501987  {025517EC-0094-4EC0-BA50-498DEEDA3D2D}  250000  2002-05-10 00:00   \n",
       "\n",
       "        postcode property_type new_build_flag duration primary_address  \\\n",
       "1965720  SW9 0NU             F              N        L             131   \n",
       "4412078  SW9 0NU             F              N        L             131   \n",
       "7501987  SW9 0NU             F              N        L             131   \n",
       "\n",
       "        secondary_address             street locality    city district  \\\n",
       "1965720               NaN  CRANWORTH GARDENS      NaN  LONDON  LAMBETH   \n",
       "4412078               NaN  CRANWORTH GARDENS      NaN  LONDON  LAMBETH   \n",
       "7501987               NaN  CRANWORTH GARDENS   LONDON  LONDON  LAMBETH   \n",
       "\n",
       "                 county ppd_category record_status  \n",
       "1965720  GREATER LONDON            A             A  \n",
       "4412078  GREATER LONDON            A             A  \n",
       "7501987  GREATER LONDON            A             A  "
      ]
     },
     "execution_count": 8,
     "metadata": {},
     "output_type": "execute_result"
    }
   ],
   "source": [
    "price_paid_data.loc[(price_paid_data.postcode == \"SW9 0NU\") & (price_paid_data.primary_address==\"131\")]"
   ]
  },
  {
   "cell_type": "code",
   "execution_count": 9,
   "metadata": {},
   "outputs": [
    {
     "data": {
      "text/html": [
       "<div>\n",
       "<style scoped>\n",
       "    .dataframe tbody tr th:only-of-type {\n",
       "        vertical-align: middle;\n",
       "    }\n",
       "\n",
       "    .dataframe tbody tr th {\n",
       "        vertical-align: top;\n",
       "    }\n",
       "\n",
       "    .dataframe thead th {\n",
       "        text-align: right;\n",
       "    }\n",
       "</style>\n",
       "<table border=\"1\" class=\"dataframe\">\n",
       "  <thead>\n",
       "    <tr style=\"text-align: right;\">\n",
       "      <th></th>\n",
       "      <th>transaction_id</th>\n",
       "      <th>price</th>\n",
       "      <th>transfer_date</th>\n",
       "      <th>postcode</th>\n",
       "      <th>property_type</th>\n",
       "      <th>new_build_flag</th>\n",
       "      <th>duration</th>\n",
       "      <th>primary_address</th>\n",
       "      <th>secondary_address</th>\n",
       "      <th>street</th>\n",
       "      <th>locality</th>\n",
       "      <th>city</th>\n",
       "      <th>district</th>\n",
       "      <th>county</th>\n",
       "      <th>ppd_category</th>\n",
       "      <th>record_status</th>\n",
       "    </tr>\n",
       "  </thead>\n",
       "  <tbody>\n",
       "    <tr>\n",
       "      <th>27082048</th>\n",
       "      <td>{D93B27B1-C99F-3100-E053-6C04A8C08887}</td>\n",
       "      <td>378000</td>\n",
       "      <td>2021-09-10 00:00</td>\n",
       "      <td>TN6 2JD</td>\n",
       "      <td>O</td>\n",
       "      <td>N</td>\n",
       "      <td>F</td>\n",
       "      <td>ST FLORIAN HOUSE</td>\n",
       "      <td>UNIT 1</td>\n",
       "      <td>BROOKLANDS PARK</td>\n",
       "      <td>NaN</td>\n",
       "      <td>CROWBOROUGH</td>\n",
       "      <td>WEALDEN</td>\n",
       "      <td>EAST SUSSEX</td>\n",
       "      <td>B</td>\n",
       "      <td>A</td>\n",
       "    </tr>\n",
       "  </tbody>\n",
       "</table>\n",
       "</div>"
      ],
      "text/plain": [
       "                                  transaction_id   price     transfer_date  \\\n",
       "27082048  {D93B27B1-C99F-3100-E053-6C04A8C08887}  378000  2021-09-10 00:00   \n",
       "\n",
       "         postcode property_type new_build_flag duration   primary_address  \\\n",
       "27082048  TN6 2JD             O              N        F  ST FLORIAN HOUSE   \n",
       "\n",
       "         secondary_address           street locality         city district  \\\n",
       "27082048            UNIT 1  BROOKLANDS PARK      NaN  CROWBOROUGH  WEALDEN   \n",
       "\n",
       "               county ppd_category record_status  \n",
       "27082048  EAST SUSSEX            B             A  "
      ]
     },
     "execution_count": 9,
     "metadata": {},
     "output_type": "execute_result"
    }
   ],
   "source": [
    "price_paid_data.loc[(price_paid_data.postcode == \"TN6 2JD\")]"
   ]
  },
  {
   "cell_type": "code",
   "execution_count": 10,
   "metadata": {},
   "outputs": [
    {
     "name": "stderr",
     "output_type": "stream",
     "text": [
      "/var/folders/bx/_pns77ls3ld0llfqvfyfwcc00000gn/T/ipykernel_20698/1468850349.py:4: SettingWithCopyWarning: \n",
      "A value is trying to be set on a copy of a slice from a DataFrame.\n",
      "Try using .loc[row_indexer,col_indexer] = value instead\n",
      "\n",
      "See the caveats in the documentation: https://pandas.pydata.org/pandas-docs/stable/user_guide/indexing.html#returning-a-view-versus-a-copy\n",
      "  crowborough_house_prices['year'] = pd.DatetimeIndex(crowborough_house_prices['transfer_date']).year\n"
     ]
    },
    {
     "data": {
      "application/vnd.plotly.v1+json": {
       "config": {
        "plotlyServerURL": "https://plot.ly"
       },
       "data": [
        {
         "hovertemplate": "year=%{x}<br>mean_price=%{y}<extra></extra>",
         "legendgroup": "",
         "line": {
          "color": "#636efa",
          "dash": "solid"
         },
         "marker": {
          "symbol": "circle"
         },
         "mode": "lines",
         "name": "",
         "orientation": "v",
         "showlegend": false,
         "type": "scatter",
         "x": [
          1995,
          1996,
          1997,
          1998,
          1999,
          2000,
          2001,
          2002,
          2003,
          2004,
          2005,
          2006,
          2007,
          2008,
          2009,
          2010,
          2011,
          2012,
          2013,
          2014,
          2015,
          2016,
          2017,
          2018,
          2019,
          2020,
          2021,
          2022,
          2023
         ],
         "xaxis": "x",
         "y": [
          103618.65011820331,
          99978.62007168459,
          108136.45967741935,
          124023.04858934169,
          139787.0514820593,
          164741.41873804972,
          178066.01642335765,
          214553.4205298013,
          228063.470703125,
          231907.10486891386,
          265758.14435146446,
          279621.9607476636,
          298171.96202531643,
          273712.288209607,
          287742.33636363636,
          320389.34574468085,
          302846.94444444444,
          330276.2158119658,
          318351.2470023981,
          341207.85185185185,
          334336.11340206186,
          383211.50996015937,
          459927.5238095238,
          422021.80672268907,
          395039.05963302753,
          490324.9147121535,
          536783.7675675675,
          544371.9978858351,
          504438.124260355
         ],
         "yaxis": "y"
        }
       ],
       "layout": {
        "legend": {
         "tracegroupgap": 0
        },
        "template": {
         "data": {
          "bar": [
           {
            "error_x": {
             "color": "#2a3f5f"
            },
            "error_y": {
             "color": "#2a3f5f"
            },
            "marker": {
             "line": {
              "color": "#E5ECF6",
              "width": 0.5
             },
             "pattern": {
              "fillmode": "overlay",
              "size": 10,
              "solidity": 0.2
             }
            },
            "type": "bar"
           }
          ],
          "barpolar": [
           {
            "marker": {
             "line": {
              "color": "#E5ECF6",
              "width": 0.5
             },
             "pattern": {
              "fillmode": "overlay",
              "size": 10,
              "solidity": 0.2
             }
            },
            "type": "barpolar"
           }
          ],
          "carpet": [
           {
            "aaxis": {
             "endlinecolor": "#2a3f5f",
             "gridcolor": "white",
             "linecolor": "white",
             "minorgridcolor": "white",
             "startlinecolor": "#2a3f5f"
            },
            "baxis": {
             "endlinecolor": "#2a3f5f",
             "gridcolor": "white",
             "linecolor": "white",
             "minorgridcolor": "white",
             "startlinecolor": "#2a3f5f"
            },
            "type": "carpet"
           }
          ],
          "choropleth": [
           {
            "colorbar": {
             "outlinewidth": 0,
             "ticks": ""
            },
            "type": "choropleth"
           }
          ],
          "contour": [
           {
            "colorbar": {
             "outlinewidth": 0,
             "ticks": ""
            },
            "colorscale": [
             [
              0,
              "#0d0887"
             ],
             [
              0.1111111111111111,
              "#46039f"
             ],
             [
              0.2222222222222222,
              "#7201a8"
             ],
             [
              0.3333333333333333,
              "#9c179e"
             ],
             [
              0.4444444444444444,
              "#bd3786"
             ],
             [
              0.5555555555555556,
              "#d8576b"
             ],
             [
              0.6666666666666666,
              "#ed7953"
             ],
             [
              0.7777777777777778,
              "#fb9f3a"
             ],
             [
              0.8888888888888888,
              "#fdca26"
             ],
             [
              1,
              "#f0f921"
             ]
            ],
            "type": "contour"
           }
          ],
          "contourcarpet": [
           {
            "colorbar": {
             "outlinewidth": 0,
             "ticks": ""
            },
            "type": "contourcarpet"
           }
          ],
          "heatmap": [
           {
            "colorbar": {
             "outlinewidth": 0,
             "ticks": ""
            },
            "colorscale": [
             [
              0,
              "#0d0887"
             ],
             [
              0.1111111111111111,
              "#46039f"
             ],
             [
              0.2222222222222222,
              "#7201a8"
             ],
             [
              0.3333333333333333,
              "#9c179e"
             ],
             [
              0.4444444444444444,
              "#bd3786"
             ],
             [
              0.5555555555555556,
              "#d8576b"
             ],
             [
              0.6666666666666666,
              "#ed7953"
             ],
             [
              0.7777777777777778,
              "#fb9f3a"
             ],
             [
              0.8888888888888888,
              "#fdca26"
             ],
             [
              1,
              "#f0f921"
             ]
            ],
            "type": "heatmap"
           }
          ],
          "heatmapgl": [
           {
            "colorbar": {
             "outlinewidth": 0,
             "ticks": ""
            },
            "colorscale": [
             [
              0,
              "#0d0887"
             ],
             [
              0.1111111111111111,
              "#46039f"
             ],
             [
              0.2222222222222222,
              "#7201a8"
             ],
             [
              0.3333333333333333,
              "#9c179e"
             ],
             [
              0.4444444444444444,
              "#bd3786"
             ],
             [
              0.5555555555555556,
              "#d8576b"
             ],
             [
              0.6666666666666666,
              "#ed7953"
             ],
             [
              0.7777777777777778,
              "#fb9f3a"
             ],
             [
              0.8888888888888888,
              "#fdca26"
             ],
             [
              1,
              "#f0f921"
             ]
            ],
            "type": "heatmapgl"
           }
          ],
          "histogram": [
           {
            "marker": {
             "pattern": {
              "fillmode": "overlay",
              "size": 10,
              "solidity": 0.2
             }
            },
            "type": "histogram"
           }
          ],
          "histogram2d": [
           {
            "colorbar": {
             "outlinewidth": 0,
             "ticks": ""
            },
            "colorscale": [
             [
              0,
              "#0d0887"
             ],
             [
              0.1111111111111111,
              "#46039f"
             ],
             [
              0.2222222222222222,
              "#7201a8"
             ],
             [
              0.3333333333333333,
              "#9c179e"
             ],
             [
              0.4444444444444444,
              "#bd3786"
             ],
             [
              0.5555555555555556,
              "#d8576b"
             ],
             [
              0.6666666666666666,
              "#ed7953"
             ],
             [
              0.7777777777777778,
              "#fb9f3a"
             ],
             [
              0.8888888888888888,
              "#fdca26"
             ],
             [
              1,
              "#f0f921"
             ]
            ],
            "type": "histogram2d"
           }
          ],
          "histogram2dcontour": [
           {
            "colorbar": {
             "outlinewidth": 0,
             "ticks": ""
            },
            "colorscale": [
             [
              0,
              "#0d0887"
             ],
             [
              0.1111111111111111,
              "#46039f"
             ],
             [
              0.2222222222222222,
              "#7201a8"
             ],
             [
              0.3333333333333333,
              "#9c179e"
             ],
             [
              0.4444444444444444,
              "#bd3786"
             ],
             [
              0.5555555555555556,
              "#d8576b"
             ],
             [
              0.6666666666666666,
              "#ed7953"
             ],
             [
              0.7777777777777778,
              "#fb9f3a"
             ],
             [
              0.8888888888888888,
              "#fdca26"
             ],
             [
              1,
              "#f0f921"
             ]
            ],
            "type": "histogram2dcontour"
           }
          ],
          "mesh3d": [
           {
            "colorbar": {
             "outlinewidth": 0,
             "ticks": ""
            },
            "type": "mesh3d"
           }
          ],
          "parcoords": [
           {
            "line": {
             "colorbar": {
              "outlinewidth": 0,
              "ticks": ""
             }
            },
            "type": "parcoords"
           }
          ],
          "pie": [
           {
            "automargin": true,
            "type": "pie"
           }
          ],
          "scatter": [
           {
            "fillpattern": {
             "fillmode": "overlay",
             "size": 10,
             "solidity": 0.2
            },
            "type": "scatter"
           }
          ],
          "scatter3d": [
           {
            "line": {
             "colorbar": {
              "outlinewidth": 0,
              "ticks": ""
             }
            },
            "marker": {
             "colorbar": {
              "outlinewidth": 0,
              "ticks": ""
             }
            },
            "type": "scatter3d"
           }
          ],
          "scattercarpet": [
           {
            "marker": {
             "colorbar": {
              "outlinewidth": 0,
              "ticks": ""
             }
            },
            "type": "scattercarpet"
           }
          ],
          "scattergeo": [
           {
            "marker": {
             "colorbar": {
              "outlinewidth": 0,
              "ticks": ""
             }
            },
            "type": "scattergeo"
           }
          ],
          "scattergl": [
           {
            "marker": {
             "colorbar": {
              "outlinewidth": 0,
              "ticks": ""
             }
            },
            "type": "scattergl"
           }
          ],
          "scattermapbox": [
           {
            "marker": {
             "colorbar": {
              "outlinewidth": 0,
              "ticks": ""
             }
            },
            "type": "scattermapbox"
           }
          ],
          "scatterpolar": [
           {
            "marker": {
             "colorbar": {
              "outlinewidth": 0,
              "ticks": ""
             }
            },
            "type": "scatterpolar"
           }
          ],
          "scatterpolargl": [
           {
            "marker": {
             "colorbar": {
              "outlinewidth": 0,
              "ticks": ""
             }
            },
            "type": "scatterpolargl"
           }
          ],
          "scatterternary": [
           {
            "marker": {
             "colorbar": {
              "outlinewidth": 0,
              "ticks": ""
             }
            },
            "type": "scatterternary"
           }
          ],
          "surface": [
           {
            "colorbar": {
             "outlinewidth": 0,
             "ticks": ""
            },
            "colorscale": [
             [
              0,
              "#0d0887"
             ],
             [
              0.1111111111111111,
              "#46039f"
             ],
             [
              0.2222222222222222,
              "#7201a8"
             ],
             [
              0.3333333333333333,
              "#9c179e"
             ],
             [
              0.4444444444444444,
              "#bd3786"
             ],
             [
              0.5555555555555556,
              "#d8576b"
             ],
             [
              0.6666666666666666,
              "#ed7953"
             ],
             [
              0.7777777777777778,
              "#fb9f3a"
             ],
             [
              0.8888888888888888,
              "#fdca26"
             ],
             [
              1,
              "#f0f921"
             ]
            ],
            "type": "surface"
           }
          ],
          "table": [
           {
            "cells": {
             "fill": {
              "color": "#EBF0F8"
             },
             "line": {
              "color": "white"
             }
            },
            "header": {
             "fill": {
              "color": "#C8D4E3"
             },
             "line": {
              "color": "white"
             }
            },
            "type": "table"
           }
          ]
         },
         "layout": {
          "annotationdefaults": {
           "arrowcolor": "#2a3f5f",
           "arrowhead": 0,
           "arrowwidth": 1
          },
          "autotypenumbers": "strict",
          "coloraxis": {
           "colorbar": {
            "outlinewidth": 0,
            "ticks": ""
           }
          },
          "colorscale": {
           "diverging": [
            [
             0,
             "#8e0152"
            ],
            [
             0.1,
             "#c51b7d"
            ],
            [
             0.2,
             "#de77ae"
            ],
            [
             0.3,
             "#f1b6da"
            ],
            [
             0.4,
             "#fde0ef"
            ],
            [
             0.5,
             "#f7f7f7"
            ],
            [
             0.6,
             "#e6f5d0"
            ],
            [
             0.7,
             "#b8e186"
            ],
            [
             0.8,
             "#7fbc41"
            ],
            [
             0.9,
             "#4d9221"
            ],
            [
             1,
             "#276419"
            ]
           ],
           "sequential": [
            [
             0,
             "#0d0887"
            ],
            [
             0.1111111111111111,
             "#46039f"
            ],
            [
             0.2222222222222222,
             "#7201a8"
            ],
            [
             0.3333333333333333,
             "#9c179e"
            ],
            [
             0.4444444444444444,
             "#bd3786"
            ],
            [
             0.5555555555555556,
             "#d8576b"
            ],
            [
             0.6666666666666666,
             "#ed7953"
            ],
            [
             0.7777777777777778,
             "#fb9f3a"
            ],
            [
             0.8888888888888888,
             "#fdca26"
            ],
            [
             1,
             "#f0f921"
            ]
           ],
           "sequentialminus": [
            [
             0,
             "#0d0887"
            ],
            [
             0.1111111111111111,
             "#46039f"
            ],
            [
             0.2222222222222222,
             "#7201a8"
            ],
            [
             0.3333333333333333,
             "#9c179e"
            ],
            [
             0.4444444444444444,
             "#bd3786"
            ],
            [
             0.5555555555555556,
             "#d8576b"
            ],
            [
             0.6666666666666666,
             "#ed7953"
            ],
            [
             0.7777777777777778,
             "#fb9f3a"
            ],
            [
             0.8888888888888888,
             "#fdca26"
            ],
            [
             1,
             "#f0f921"
            ]
           ]
          },
          "colorway": [
           "#636efa",
           "#EF553B",
           "#00cc96",
           "#ab63fa",
           "#FFA15A",
           "#19d3f3",
           "#FF6692",
           "#B6E880",
           "#FF97FF",
           "#FECB52"
          ],
          "font": {
           "color": "#2a3f5f"
          },
          "geo": {
           "bgcolor": "white",
           "lakecolor": "white",
           "landcolor": "#E5ECF6",
           "showlakes": true,
           "showland": true,
           "subunitcolor": "white"
          },
          "hoverlabel": {
           "align": "left"
          },
          "hovermode": "closest",
          "mapbox": {
           "style": "light"
          },
          "paper_bgcolor": "white",
          "plot_bgcolor": "#E5ECF6",
          "polar": {
           "angularaxis": {
            "gridcolor": "white",
            "linecolor": "white",
            "ticks": ""
           },
           "bgcolor": "#E5ECF6",
           "radialaxis": {
            "gridcolor": "white",
            "linecolor": "white",
            "ticks": ""
           }
          },
          "scene": {
           "xaxis": {
            "backgroundcolor": "#E5ECF6",
            "gridcolor": "white",
            "gridwidth": 2,
            "linecolor": "white",
            "showbackground": true,
            "ticks": "",
            "zerolinecolor": "white"
           },
           "yaxis": {
            "backgroundcolor": "#E5ECF6",
            "gridcolor": "white",
            "gridwidth": 2,
            "linecolor": "white",
            "showbackground": true,
            "ticks": "",
            "zerolinecolor": "white"
           },
           "zaxis": {
            "backgroundcolor": "#E5ECF6",
            "gridcolor": "white",
            "gridwidth": 2,
            "linecolor": "white",
            "showbackground": true,
            "ticks": "",
            "zerolinecolor": "white"
           }
          },
          "shapedefaults": {
           "line": {
            "color": "#2a3f5f"
           }
          },
          "ternary": {
           "aaxis": {
            "gridcolor": "white",
            "linecolor": "white",
            "ticks": ""
           },
           "baxis": {
            "gridcolor": "white",
            "linecolor": "white",
            "ticks": ""
           },
           "bgcolor": "#E5ECF6",
           "caxis": {
            "gridcolor": "white",
            "linecolor": "white",
            "ticks": ""
           }
          },
          "title": {
           "x": 0.05
          },
          "xaxis": {
           "automargin": true,
           "gridcolor": "white",
           "linecolor": "white",
           "ticks": "",
           "title": {
            "standoff": 15
           },
           "zerolinecolor": "white",
           "zerolinewidth": 2
          },
          "yaxis": {
           "automargin": true,
           "gridcolor": "white",
           "linecolor": "white",
           "ticks": "",
           "title": {
            "standoff": 15
           },
           "zerolinecolor": "white",
           "zerolinewidth": 2
          }
         }
        },
        "title": {
         "text": "Average House Price in Crowborough"
        },
        "xaxis": {
         "anchor": "y",
         "domain": [
          0,
          1
         ],
         "title": {
          "text": "year"
         }
        },
        "yaxis": {
         "anchor": "x",
         "domain": [
          0,
          1
         ],
         "title": {
          "text": "mean_price"
         }
        }
       }
      }
     },
     "metadata": {},
     "output_type": "display_data"
    }
   ],
   "source": [
    "import plotly.express as px\n",
    "\n",
    "crowborough_house_prices = price_paid_data.loc[price_paid_data.city=='CROWBOROUGH']\n",
    "crowborough_house_prices['year'] = pd.DatetimeIndex(crowborough_house_prices['transfer_date']).year\n",
    "crowborough_house_prices = crowborough_house_prices.groupby('year')['price'].mean().reset_index(name ='mean_price')\n",
    "\n",
    "fig = px.line(crowborough_house_prices, x=\"year\", y=\"mean_price\", title='Average House Price in Crowborough')\n",
    "fig.show()"
   ]
  },
  {
   "cell_type": "code",
   "execution_count": 11,
   "metadata": {},
   "outputs": [
    {
     "name": "stderr",
     "output_type": "stream",
     "text": [
      "/var/folders/bx/_pns77ls3ld0llfqvfyfwcc00000gn/T/ipykernel_20698/2617313691.py:4: SettingWithCopyWarning:\n",
      "\n",
      "\n",
      "A value is trying to be set on a copy of a slice from a DataFrame.\n",
      "Try using .loc[row_indexer,col_indexer] = value instead\n",
      "\n",
      "See the caveats in the documentation: https://pandas.pydata.org/pandas-docs/stable/user_guide/indexing.html#returning-a-view-versus-a-copy\n",
      "\n"
     ]
    },
    {
     "data": {
      "application/vnd.plotly.v1+json": {
       "config": {
        "plotlyServerURL": "https://plot.ly"
       },
       "data": [
        {
         "hovertemplate": "year=%{x}<br>median_price=%{y}<extra></extra>",
         "legendgroup": "",
         "line": {
          "color": "#636efa",
          "dash": "solid"
         },
         "marker": {
          "symbol": "circle"
         },
         "mode": "lines",
         "name": "",
         "orientation": "v",
         "showlegend": false,
         "type": "scatter",
         "x": [
          1995,
          1996,
          1997,
          1998,
          1999,
          2000,
          2001,
          2002,
          2003,
          2004,
          2005,
          2006,
          2007,
          2008,
          2009,
          2010,
          2011,
          2012,
          2013,
          2014,
          2015,
          2016,
          2017,
          2018,
          2019,
          2020,
          2021,
          2022,
          2023
         ],
         "xaxis": "x",
         "y": [
          85500,
          83000,
          90000,
          109000,
          117500,
          142000,
          154750,
          169725,
          208000,
          210000,
          234600,
          248000,
          250000,
          240000,
          245000,
          267000,
          250000,
          265000,
          270000,
          290000,
          300000,
          327250,
          360000,
          364975,
          360000,
          389000,
          410600,
          450000,
          435000
         ],
         "yaxis": "y"
        }
       ],
       "layout": {
        "legend": {
         "tracegroupgap": 0
        },
        "template": {
         "data": {
          "bar": [
           {
            "error_x": {
             "color": "#2a3f5f"
            },
            "error_y": {
             "color": "#2a3f5f"
            },
            "marker": {
             "line": {
              "color": "#E5ECF6",
              "width": 0.5
             },
             "pattern": {
              "fillmode": "overlay",
              "size": 10,
              "solidity": 0.2
             }
            },
            "type": "bar"
           }
          ],
          "barpolar": [
           {
            "marker": {
             "line": {
              "color": "#E5ECF6",
              "width": 0.5
             },
             "pattern": {
              "fillmode": "overlay",
              "size": 10,
              "solidity": 0.2
             }
            },
            "type": "barpolar"
           }
          ],
          "carpet": [
           {
            "aaxis": {
             "endlinecolor": "#2a3f5f",
             "gridcolor": "white",
             "linecolor": "white",
             "minorgridcolor": "white",
             "startlinecolor": "#2a3f5f"
            },
            "baxis": {
             "endlinecolor": "#2a3f5f",
             "gridcolor": "white",
             "linecolor": "white",
             "minorgridcolor": "white",
             "startlinecolor": "#2a3f5f"
            },
            "type": "carpet"
           }
          ],
          "choropleth": [
           {
            "colorbar": {
             "outlinewidth": 0,
             "ticks": ""
            },
            "type": "choropleth"
           }
          ],
          "contour": [
           {
            "colorbar": {
             "outlinewidth": 0,
             "ticks": ""
            },
            "colorscale": [
             [
              0,
              "#0d0887"
             ],
             [
              0.1111111111111111,
              "#46039f"
             ],
             [
              0.2222222222222222,
              "#7201a8"
             ],
             [
              0.3333333333333333,
              "#9c179e"
             ],
             [
              0.4444444444444444,
              "#bd3786"
             ],
             [
              0.5555555555555556,
              "#d8576b"
             ],
             [
              0.6666666666666666,
              "#ed7953"
             ],
             [
              0.7777777777777778,
              "#fb9f3a"
             ],
             [
              0.8888888888888888,
              "#fdca26"
             ],
             [
              1,
              "#f0f921"
             ]
            ],
            "type": "contour"
           }
          ],
          "contourcarpet": [
           {
            "colorbar": {
             "outlinewidth": 0,
             "ticks": ""
            },
            "type": "contourcarpet"
           }
          ],
          "heatmap": [
           {
            "colorbar": {
             "outlinewidth": 0,
             "ticks": ""
            },
            "colorscale": [
             [
              0,
              "#0d0887"
             ],
             [
              0.1111111111111111,
              "#46039f"
             ],
             [
              0.2222222222222222,
              "#7201a8"
             ],
             [
              0.3333333333333333,
              "#9c179e"
             ],
             [
              0.4444444444444444,
              "#bd3786"
             ],
             [
              0.5555555555555556,
              "#d8576b"
             ],
             [
              0.6666666666666666,
              "#ed7953"
             ],
             [
              0.7777777777777778,
              "#fb9f3a"
             ],
             [
              0.8888888888888888,
              "#fdca26"
             ],
             [
              1,
              "#f0f921"
             ]
            ],
            "type": "heatmap"
           }
          ],
          "heatmapgl": [
           {
            "colorbar": {
             "outlinewidth": 0,
             "ticks": ""
            },
            "colorscale": [
             [
              0,
              "#0d0887"
             ],
             [
              0.1111111111111111,
              "#46039f"
             ],
             [
              0.2222222222222222,
              "#7201a8"
             ],
             [
              0.3333333333333333,
              "#9c179e"
             ],
             [
              0.4444444444444444,
              "#bd3786"
             ],
             [
              0.5555555555555556,
              "#d8576b"
             ],
             [
              0.6666666666666666,
              "#ed7953"
             ],
             [
              0.7777777777777778,
              "#fb9f3a"
             ],
             [
              0.8888888888888888,
              "#fdca26"
             ],
             [
              1,
              "#f0f921"
             ]
            ],
            "type": "heatmapgl"
           }
          ],
          "histogram": [
           {
            "marker": {
             "pattern": {
              "fillmode": "overlay",
              "size": 10,
              "solidity": 0.2
             }
            },
            "type": "histogram"
           }
          ],
          "histogram2d": [
           {
            "colorbar": {
             "outlinewidth": 0,
             "ticks": ""
            },
            "colorscale": [
             [
              0,
              "#0d0887"
             ],
             [
              0.1111111111111111,
              "#46039f"
             ],
             [
              0.2222222222222222,
              "#7201a8"
             ],
             [
              0.3333333333333333,
              "#9c179e"
             ],
             [
              0.4444444444444444,
              "#bd3786"
             ],
             [
              0.5555555555555556,
              "#d8576b"
             ],
             [
              0.6666666666666666,
              "#ed7953"
             ],
             [
              0.7777777777777778,
              "#fb9f3a"
             ],
             [
              0.8888888888888888,
              "#fdca26"
             ],
             [
              1,
              "#f0f921"
             ]
            ],
            "type": "histogram2d"
           }
          ],
          "histogram2dcontour": [
           {
            "colorbar": {
             "outlinewidth": 0,
             "ticks": ""
            },
            "colorscale": [
             [
              0,
              "#0d0887"
             ],
             [
              0.1111111111111111,
              "#46039f"
             ],
             [
              0.2222222222222222,
              "#7201a8"
             ],
             [
              0.3333333333333333,
              "#9c179e"
             ],
             [
              0.4444444444444444,
              "#bd3786"
             ],
             [
              0.5555555555555556,
              "#d8576b"
             ],
             [
              0.6666666666666666,
              "#ed7953"
             ],
             [
              0.7777777777777778,
              "#fb9f3a"
             ],
             [
              0.8888888888888888,
              "#fdca26"
             ],
             [
              1,
              "#f0f921"
             ]
            ],
            "type": "histogram2dcontour"
           }
          ],
          "mesh3d": [
           {
            "colorbar": {
             "outlinewidth": 0,
             "ticks": ""
            },
            "type": "mesh3d"
           }
          ],
          "parcoords": [
           {
            "line": {
             "colorbar": {
              "outlinewidth": 0,
              "ticks": ""
             }
            },
            "type": "parcoords"
           }
          ],
          "pie": [
           {
            "automargin": true,
            "type": "pie"
           }
          ],
          "scatter": [
           {
            "fillpattern": {
             "fillmode": "overlay",
             "size": 10,
             "solidity": 0.2
            },
            "type": "scatter"
           }
          ],
          "scatter3d": [
           {
            "line": {
             "colorbar": {
              "outlinewidth": 0,
              "ticks": ""
             }
            },
            "marker": {
             "colorbar": {
              "outlinewidth": 0,
              "ticks": ""
             }
            },
            "type": "scatter3d"
           }
          ],
          "scattercarpet": [
           {
            "marker": {
             "colorbar": {
              "outlinewidth": 0,
              "ticks": ""
             }
            },
            "type": "scattercarpet"
           }
          ],
          "scattergeo": [
           {
            "marker": {
             "colorbar": {
              "outlinewidth": 0,
              "ticks": ""
             }
            },
            "type": "scattergeo"
           }
          ],
          "scattergl": [
           {
            "marker": {
             "colorbar": {
              "outlinewidth": 0,
              "ticks": ""
             }
            },
            "type": "scattergl"
           }
          ],
          "scattermapbox": [
           {
            "marker": {
             "colorbar": {
              "outlinewidth": 0,
              "ticks": ""
             }
            },
            "type": "scattermapbox"
           }
          ],
          "scatterpolar": [
           {
            "marker": {
             "colorbar": {
              "outlinewidth": 0,
              "ticks": ""
             }
            },
            "type": "scatterpolar"
           }
          ],
          "scatterpolargl": [
           {
            "marker": {
             "colorbar": {
              "outlinewidth": 0,
              "ticks": ""
             }
            },
            "type": "scatterpolargl"
           }
          ],
          "scatterternary": [
           {
            "marker": {
             "colorbar": {
              "outlinewidth": 0,
              "ticks": ""
             }
            },
            "type": "scatterternary"
           }
          ],
          "surface": [
           {
            "colorbar": {
             "outlinewidth": 0,
             "ticks": ""
            },
            "colorscale": [
             [
              0,
              "#0d0887"
             ],
             [
              0.1111111111111111,
              "#46039f"
             ],
             [
              0.2222222222222222,
              "#7201a8"
             ],
             [
              0.3333333333333333,
              "#9c179e"
             ],
             [
              0.4444444444444444,
              "#bd3786"
             ],
             [
              0.5555555555555556,
              "#d8576b"
             ],
             [
              0.6666666666666666,
              "#ed7953"
             ],
             [
              0.7777777777777778,
              "#fb9f3a"
             ],
             [
              0.8888888888888888,
              "#fdca26"
             ],
             [
              1,
              "#f0f921"
             ]
            ],
            "type": "surface"
           }
          ],
          "table": [
           {
            "cells": {
             "fill": {
              "color": "#EBF0F8"
             },
             "line": {
              "color": "white"
             }
            },
            "header": {
             "fill": {
              "color": "#C8D4E3"
             },
             "line": {
              "color": "white"
             }
            },
            "type": "table"
           }
          ]
         },
         "layout": {
          "annotationdefaults": {
           "arrowcolor": "#2a3f5f",
           "arrowhead": 0,
           "arrowwidth": 1
          },
          "autotypenumbers": "strict",
          "coloraxis": {
           "colorbar": {
            "outlinewidth": 0,
            "ticks": ""
           }
          },
          "colorscale": {
           "diverging": [
            [
             0,
             "#8e0152"
            ],
            [
             0.1,
             "#c51b7d"
            ],
            [
             0.2,
             "#de77ae"
            ],
            [
             0.3,
             "#f1b6da"
            ],
            [
             0.4,
             "#fde0ef"
            ],
            [
             0.5,
             "#f7f7f7"
            ],
            [
             0.6,
             "#e6f5d0"
            ],
            [
             0.7,
             "#b8e186"
            ],
            [
             0.8,
             "#7fbc41"
            ],
            [
             0.9,
             "#4d9221"
            ],
            [
             1,
             "#276419"
            ]
           ],
           "sequential": [
            [
             0,
             "#0d0887"
            ],
            [
             0.1111111111111111,
             "#46039f"
            ],
            [
             0.2222222222222222,
             "#7201a8"
            ],
            [
             0.3333333333333333,
             "#9c179e"
            ],
            [
             0.4444444444444444,
             "#bd3786"
            ],
            [
             0.5555555555555556,
             "#d8576b"
            ],
            [
             0.6666666666666666,
             "#ed7953"
            ],
            [
             0.7777777777777778,
             "#fb9f3a"
            ],
            [
             0.8888888888888888,
             "#fdca26"
            ],
            [
             1,
             "#f0f921"
            ]
           ],
           "sequentialminus": [
            [
             0,
             "#0d0887"
            ],
            [
             0.1111111111111111,
             "#46039f"
            ],
            [
             0.2222222222222222,
             "#7201a8"
            ],
            [
             0.3333333333333333,
             "#9c179e"
            ],
            [
             0.4444444444444444,
             "#bd3786"
            ],
            [
             0.5555555555555556,
             "#d8576b"
            ],
            [
             0.6666666666666666,
             "#ed7953"
            ],
            [
             0.7777777777777778,
             "#fb9f3a"
            ],
            [
             0.8888888888888888,
             "#fdca26"
            ],
            [
             1,
             "#f0f921"
            ]
           ]
          },
          "colorway": [
           "#636efa",
           "#EF553B",
           "#00cc96",
           "#ab63fa",
           "#FFA15A",
           "#19d3f3",
           "#FF6692",
           "#B6E880",
           "#FF97FF",
           "#FECB52"
          ],
          "font": {
           "color": "#2a3f5f"
          },
          "geo": {
           "bgcolor": "white",
           "lakecolor": "white",
           "landcolor": "#E5ECF6",
           "showlakes": true,
           "showland": true,
           "subunitcolor": "white"
          },
          "hoverlabel": {
           "align": "left"
          },
          "hovermode": "closest",
          "mapbox": {
           "style": "light"
          },
          "paper_bgcolor": "white",
          "plot_bgcolor": "#E5ECF6",
          "polar": {
           "angularaxis": {
            "gridcolor": "white",
            "linecolor": "white",
            "ticks": ""
           },
           "bgcolor": "#E5ECF6",
           "radialaxis": {
            "gridcolor": "white",
            "linecolor": "white",
            "ticks": ""
           }
          },
          "scene": {
           "xaxis": {
            "backgroundcolor": "#E5ECF6",
            "gridcolor": "white",
            "gridwidth": 2,
            "linecolor": "white",
            "showbackground": true,
            "ticks": "",
            "zerolinecolor": "white"
           },
           "yaxis": {
            "backgroundcolor": "#E5ECF6",
            "gridcolor": "white",
            "gridwidth": 2,
            "linecolor": "white",
            "showbackground": true,
            "ticks": "",
            "zerolinecolor": "white"
           },
           "zaxis": {
            "backgroundcolor": "#E5ECF6",
            "gridcolor": "white",
            "gridwidth": 2,
            "linecolor": "white",
            "showbackground": true,
            "ticks": "",
            "zerolinecolor": "white"
           }
          },
          "shapedefaults": {
           "line": {
            "color": "#2a3f5f"
           }
          },
          "ternary": {
           "aaxis": {
            "gridcolor": "white",
            "linecolor": "white",
            "ticks": ""
           },
           "baxis": {
            "gridcolor": "white",
            "linecolor": "white",
            "ticks": ""
           },
           "bgcolor": "#E5ECF6",
           "caxis": {
            "gridcolor": "white",
            "linecolor": "white",
            "ticks": ""
           }
          },
          "title": {
           "x": 0.05
          },
          "xaxis": {
           "automargin": true,
           "gridcolor": "white",
           "linecolor": "white",
           "ticks": "",
           "title": {
            "standoff": 15
           },
           "zerolinecolor": "white",
           "zerolinewidth": 2
          },
          "yaxis": {
           "automargin": true,
           "gridcolor": "white",
           "linecolor": "white",
           "ticks": "",
           "title": {
            "standoff": 15
           },
           "zerolinecolor": "white",
           "zerolinewidth": 2
          }
         }
        },
        "title": {
         "text": "Median House Price in Crowborough"
        },
        "xaxis": {
         "anchor": "y",
         "domain": [
          0,
          1
         ],
         "title": {
          "text": "year"
         }
        },
        "yaxis": {
         "anchor": "x",
         "domain": [
          0,
          1
         ],
         "title": {
          "text": "median_price"
         }
        }
       }
      }
     },
     "metadata": {},
     "output_type": "display_data"
    }
   ],
   "source": [
    "import plotly.express as px\n",
    "\n",
    "crowborough_house_prices = price_paid_data.loc[price_paid_data.city=='CROWBOROUGH']\n",
    "crowborough_house_prices['year'] = pd.DatetimeIndex(crowborough_house_prices['transfer_date']).year\n",
    "crowborough_house_prices = crowborough_house_prices.groupby('year')['price'].median().reset_index(name ='median_price')\n",
    "\n",
    "fig = px.line(crowborough_house_prices, x=\"year\", y=\"median_price\", title='Median House Price in Crowborough')\n",
    "fig.show()"
   ]
  },
  {
   "cell_type": "code",
   "execution_count": 12,
   "metadata": {},
   "outputs": [
    {
     "data": {
      "text/html": [
       "<div>\n",
       "<style scoped>\n",
       "    .dataframe tbody tr th:only-of-type {\n",
       "        vertical-align: middle;\n",
       "    }\n",
       "\n",
       "    .dataframe tbody tr th {\n",
       "        vertical-align: top;\n",
       "    }\n",
       "\n",
       "    .dataframe thead th {\n",
       "        text-align: right;\n",
       "    }\n",
       "</style>\n",
       "<table border=\"1\" class=\"dataframe\">\n",
       "  <thead>\n",
       "    <tr style=\"text-align: right;\">\n",
       "      <th></th>\n",
       "      <th>transaction_id</th>\n",
       "      <th>price</th>\n",
       "      <th>transfer_date</th>\n",
       "      <th>postcode</th>\n",
       "      <th>property_type</th>\n",
       "      <th>new_build_flag</th>\n",
       "      <th>duration</th>\n",
       "      <th>primary_address</th>\n",
       "      <th>secondary_address</th>\n",
       "      <th>street</th>\n",
       "      <th>locality</th>\n",
       "      <th>city</th>\n",
       "      <th>district</th>\n",
       "      <th>county</th>\n",
       "      <th>ppd_category</th>\n",
       "      <th>record_status</th>\n",
       "    </tr>\n",
       "  </thead>\n",
       "  <tbody>\n",
       "    <tr>\n",
       "      <th>22315678</th>\n",
       "      <td>{9FF0D96A-75B7-11ED-E053-6C04A8C06383}</td>\n",
       "      <td>10000000</td>\n",
       "      <td>2017-10-02 00:00</td>\n",
       "      <td>TN6 3FQ</td>\n",
       "      <td>O</td>\n",
       "      <td>N</td>\n",
       "      <td>F</td>\n",
       "      <td>1</td>\n",
       "      <td>NaN</td>\n",
       "      <td>KINGFISHER DRIVE</td>\n",
       "      <td>NaN</td>\n",
       "      <td>CROWBOROUGH</td>\n",
       "      <td>WEALDEN</td>\n",
       "      <td>EAST SUSSEX</td>\n",
       "      <td>B</td>\n",
       "      <td>A</td>\n",
       "    </tr>\n",
       "  </tbody>\n",
       "</table>\n",
       "</div>"
      ],
      "text/plain": [
       "                                  transaction_id     price     transfer_date  \\\n",
       "22315678  {9FF0D96A-75B7-11ED-E053-6C04A8C06383}  10000000  2017-10-02 00:00   \n",
       "\n",
       "         postcode property_type new_build_flag duration primary_address  \\\n",
       "22315678  TN6 3FQ             O              N        F               1   \n",
       "\n",
       "         secondary_address            street locality         city district  \\\n",
       "22315678               NaN  KINGFISHER DRIVE      NaN  CROWBOROUGH  WEALDEN   \n",
       "\n",
       "               county ppd_category record_status  \n",
       "22315678  EAST SUSSEX            B             A  "
      ]
     },
     "execution_count": 12,
     "metadata": {},
     "output_type": "execute_result"
    }
   ],
   "source": [
    "import plotly.express as px\n",
    "\n",
    "crowborough_house_prices = price_paid_data.loc[price_paid_data.city=='CROWBOROUGH']\n",
    "crowborough_house_prices=crowborough_house_prices.query('price == price.max()')\n",
    "crowborough_house_prices"
   ]
  },
  {
   "cell_type": "code",
   "execution_count": 13,
   "metadata": {},
   "outputs": [
    {
     "name": "stderr",
     "output_type": "stream",
     "text": [
      "/var/folders/bx/_pns77ls3ld0llfqvfyfwcc00000gn/T/ipykernel_20698/1179397144.py:4: SettingWithCopyWarning:\n",
      "\n",
      "\n",
      "A value is trying to be set on a copy of a slice from a DataFrame.\n",
      "Try using .loc[row_indexer,col_indexer] = value instead\n",
      "\n",
      "See the caveats in the documentation: https://pandas.pydata.org/pandas-docs/stable/user_guide/indexing.html#returning-a-view-versus-a-copy\n",
      "\n"
     ]
    },
    {
     "data": {
      "application/vnd.plotly.v1+json": {
       "config": {
        "plotlyServerURL": "https://plot.ly"
       },
       "data": [
        {
         "hovertemplate": "year=%{x}<br>mean_price=%{y}<extra></extra>",
         "legendgroup": "",
         "line": {
          "color": "#636efa",
          "dash": "solid"
         },
         "marker": {
          "symbol": "circle"
         },
         "mode": "lines",
         "name": "",
         "orientation": "v",
         "showlegend": false,
         "type": "scatter",
         "x": [
          1995,
          1996,
          1997,
          1998,
          1999,
          2000,
          2001,
          2002,
          2003,
          2004,
          2005,
          2006,
          2007,
          2008,
          2009,
          2010,
          2011,
          2012,
          2013,
          2014,
          2015,
          2016,
          2017,
          2018,
          2019,
          2020,
          2021,
          2022,
          2023
         ],
         "xaxis": "x",
         "y": [
          109132.72462532177,
          118687.98374334263,
          136536.7,
          153012.5502070798,
          180660.75865369887,
          215875.9319668089,
          233009.43221922568,
          263695.92465707206,
          278411.8054357798,
          304668.2685214762,
          322887.76876619854,
          356187.38806664536,
          404068.5274203776,
          420743.52193753666,
          427762.62257871265,
          480318.2768477435,
          496306.916697876,
          519480.15283917915,
          616249.8481378981,
          724058.0324792447,
          792336.6850832307,
          843701.4845518756,
          983676.1571973697,
          1016743.0339357071,
          1050006.842586565,
          1060375.187967248,
          968420.0462922758,
          1010696.6690683541,
          917863.129454309
         ],
         "yaxis": "y"
        }
       ],
       "layout": {
        "legend": {
         "tracegroupgap": 0
        },
        "template": {
         "data": {
          "bar": [
           {
            "error_x": {
             "color": "#2a3f5f"
            },
            "error_y": {
             "color": "#2a3f5f"
            },
            "marker": {
             "line": {
              "color": "#E5ECF6",
              "width": 0.5
             },
             "pattern": {
              "fillmode": "overlay",
              "size": 10,
              "solidity": 0.2
             }
            },
            "type": "bar"
           }
          ],
          "barpolar": [
           {
            "marker": {
             "line": {
              "color": "#E5ECF6",
              "width": 0.5
             },
             "pattern": {
              "fillmode": "overlay",
              "size": 10,
              "solidity": 0.2
             }
            },
            "type": "barpolar"
           }
          ],
          "carpet": [
           {
            "aaxis": {
             "endlinecolor": "#2a3f5f",
             "gridcolor": "white",
             "linecolor": "white",
             "minorgridcolor": "white",
             "startlinecolor": "#2a3f5f"
            },
            "baxis": {
             "endlinecolor": "#2a3f5f",
             "gridcolor": "white",
             "linecolor": "white",
             "minorgridcolor": "white",
             "startlinecolor": "#2a3f5f"
            },
            "type": "carpet"
           }
          ],
          "choropleth": [
           {
            "colorbar": {
             "outlinewidth": 0,
             "ticks": ""
            },
            "type": "choropleth"
           }
          ],
          "contour": [
           {
            "colorbar": {
             "outlinewidth": 0,
             "ticks": ""
            },
            "colorscale": [
             [
              0,
              "#0d0887"
             ],
             [
              0.1111111111111111,
              "#46039f"
             ],
             [
              0.2222222222222222,
              "#7201a8"
             ],
             [
              0.3333333333333333,
              "#9c179e"
             ],
             [
              0.4444444444444444,
              "#bd3786"
             ],
             [
              0.5555555555555556,
              "#d8576b"
             ],
             [
              0.6666666666666666,
              "#ed7953"
             ],
             [
              0.7777777777777778,
              "#fb9f3a"
             ],
             [
              0.8888888888888888,
              "#fdca26"
             ],
             [
              1,
              "#f0f921"
             ]
            ],
            "type": "contour"
           }
          ],
          "contourcarpet": [
           {
            "colorbar": {
             "outlinewidth": 0,
             "ticks": ""
            },
            "type": "contourcarpet"
           }
          ],
          "heatmap": [
           {
            "colorbar": {
             "outlinewidth": 0,
             "ticks": ""
            },
            "colorscale": [
             [
              0,
              "#0d0887"
             ],
             [
              0.1111111111111111,
              "#46039f"
             ],
             [
              0.2222222222222222,
              "#7201a8"
             ],
             [
              0.3333333333333333,
              "#9c179e"
             ],
             [
              0.4444444444444444,
              "#bd3786"
             ],
             [
              0.5555555555555556,
              "#d8576b"
             ],
             [
              0.6666666666666666,
              "#ed7953"
             ],
             [
              0.7777777777777778,
              "#fb9f3a"
             ],
             [
              0.8888888888888888,
              "#fdca26"
             ],
             [
              1,
              "#f0f921"
             ]
            ],
            "type": "heatmap"
           }
          ],
          "heatmapgl": [
           {
            "colorbar": {
             "outlinewidth": 0,
             "ticks": ""
            },
            "colorscale": [
             [
              0,
              "#0d0887"
             ],
             [
              0.1111111111111111,
              "#46039f"
             ],
             [
              0.2222222222222222,
              "#7201a8"
             ],
             [
              0.3333333333333333,
              "#9c179e"
             ],
             [
              0.4444444444444444,
              "#bd3786"
             ],
             [
              0.5555555555555556,
              "#d8576b"
             ],
             [
              0.6666666666666666,
              "#ed7953"
             ],
             [
              0.7777777777777778,
              "#fb9f3a"
             ],
             [
              0.8888888888888888,
              "#fdca26"
             ],
             [
              1,
              "#f0f921"
             ]
            ],
            "type": "heatmapgl"
           }
          ],
          "histogram": [
           {
            "marker": {
             "pattern": {
              "fillmode": "overlay",
              "size": 10,
              "solidity": 0.2
             }
            },
            "type": "histogram"
           }
          ],
          "histogram2d": [
           {
            "colorbar": {
             "outlinewidth": 0,
             "ticks": ""
            },
            "colorscale": [
             [
              0,
              "#0d0887"
             ],
             [
              0.1111111111111111,
              "#46039f"
             ],
             [
              0.2222222222222222,
              "#7201a8"
             ],
             [
              0.3333333333333333,
              "#9c179e"
             ],
             [
              0.4444444444444444,
              "#bd3786"
             ],
             [
              0.5555555555555556,
              "#d8576b"
             ],
             [
              0.6666666666666666,
              "#ed7953"
             ],
             [
              0.7777777777777778,
              "#fb9f3a"
             ],
             [
              0.8888888888888888,
              "#fdca26"
             ],
             [
              1,
              "#f0f921"
             ]
            ],
            "type": "histogram2d"
           }
          ],
          "histogram2dcontour": [
           {
            "colorbar": {
             "outlinewidth": 0,
             "ticks": ""
            },
            "colorscale": [
             [
              0,
              "#0d0887"
             ],
             [
              0.1111111111111111,
              "#46039f"
             ],
             [
              0.2222222222222222,
              "#7201a8"
             ],
             [
              0.3333333333333333,
              "#9c179e"
             ],
             [
              0.4444444444444444,
              "#bd3786"
             ],
             [
              0.5555555555555556,
              "#d8576b"
             ],
             [
              0.6666666666666666,
              "#ed7953"
             ],
             [
              0.7777777777777778,
              "#fb9f3a"
             ],
             [
              0.8888888888888888,
              "#fdca26"
             ],
             [
              1,
              "#f0f921"
             ]
            ],
            "type": "histogram2dcontour"
           }
          ],
          "mesh3d": [
           {
            "colorbar": {
             "outlinewidth": 0,
             "ticks": ""
            },
            "type": "mesh3d"
           }
          ],
          "parcoords": [
           {
            "line": {
             "colorbar": {
              "outlinewidth": 0,
              "ticks": ""
             }
            },
            "type": "parcoords"
           }
          ],
          "pie": [
           {
            "automargin": true,
            "type": "pie"
           }
          ],
          "scatter": [
           {
            "fillpattern": {
             "fillmode": "overlay",
             "size": 10,
             "solidity": 0.2
            },
            "type": "scatter"
           }
          ],
          "scatter3d": [
           {
            "line": {
             "colorbar": {
              "outlinewidth": 0,
              "ticks": ""
             }
            },
            "marker": {
             "colorbar": {
              "outlinewidth": 0,
              "ticks": ""
             }
            },
            "type": "scatter3d"
           }
          ],
          "scattercarpet": [
           {
            "marker": {
             "colorbar": {
              "outlinewidth": 0,
              "ticks": ""
             }
            },
            "type": "scattercarpet"
           }
          ],
          "scattergeo": [
           {
            "marker": {
             "colorbar": {
              "outlinewidth": 0,
              "ticks": ""
             }
            },
            "type": "scattergeo"
           }
          ],
          "scattergl": [
           {
            "marker": {
             "colorbar": {
              "outlinewidth": 0,
              "ticks": ""
             }
            },
            "type": "scattergl"
           }
          ],
          "scattermapbox": [
           {
            "marker": {
             "colorbar": {
              "outlinewidth": 0,
              "ticks": ""
             }
            },
            "type": "scattermapbox"
           }
          ],
          "scatterpolar": [
           {
            "marker": {
             "colorbar": {
              "outlinewidth": 0,
              "ticks": ""
             }
            },
            "type": "scatterpolar"
           }
          ],
          "scatterpolargl": [
           {
            "marker": {
             "colorbar": {
              "outlinewidth": 0,
              "ticks": ""
             }
            },
            "type": "scatterpolargl"
           }
          ],
          "scatterternary": [
           {
            "marker": {
             "colorbar": {
              "outlinewidth": 0,
              "ticks": ""
             }
            },
            "type": "scatterternary"
           }
          ],
          "surface": [
           {
            "colorbar": {
             "outlinewidth": 0,
             "ticks": ""
            },
            "colorscale": [
             [
              0,
              "#0d0887"
             ],
             [
              0.1111111111111111,
              "#46039f"
             ],
             [
              0.2222222222222222,
              "#7201a8"
             ],
             [
              0.3333333333333333,
              "#9c179e"
             ],
             [
              0.4444444444444444,
              "#bd3786"
             ],
             [
              0.5555555555555556,
              "#d8576b"
             ],
             [
              0.6666666666666666,
              "#ed7953"
             ],
             [
              0.7777777777777778,
              "#fb9f3a"
             ],
             [
              0.8888888888888888,
              "#fdca26"
             ],
             [
              1,
              "#f0f921"
             ]
            ],
            "type": "surface"
           }
          ],
          "table": [
           {
            "cells": {
             "fill": {
              "color": "#EBF0F8"
             },
             "line": {
              "color": "white"
             }
            },
            "header": {
             "fill": {
              "color": "#C8D4E3"
             },
             "line": {
              "color": "white"
             }
            },
            "type": "table"
           }
          ]
         },
         "layout": {
          "annotationdefaults": {
           "arrowcolor": "#2a3f5f",
           "arrowhead": 0,
           "arrowwidth": 1
          },
          "autotypenumbers": "strict",
          "coloraxis": {
           "colorbar": {
            "outlinewidth": 0,
            "ticks": ""
           }
          },
          "colorscale": {
           "diverging": [
            [
             0,
             "#8e0152"
            ],
            [
             0.1,
             "#c51b7d"
            ],
            [
             0.2,
             "#de77ae"
            ],
            [
             0.3,
             "#f1b6da"
            ],
            [
             0.4,
             "#fde0ef"
            ],
            [
             0.5,
             "#f7f7f7"
            ],
            [
             0.6,
             "#e6f5d0"
            ],
            [
             0.7,
             "#b8e186"
            ],
            [
             0.8,
             "#7fbc41"
            ],
            [
             0.9,
             "#4d9221"
            ],
            [
             1,
             "#276419"
            ]
           ],
           "sequential": [
            [
             0,
             "#0d0887"
            ],
            [
             0.1111111111111111,
             "#46039f"
            ],
            [
             0.2222222222222222,
             "#7201a8"
            ],
            [
             0.3333333333333333,
             "#9c179e"
            ],
            [
             0.4444444444444444,
             "#bd3786"
            ],
            [
             0.5555555555555556,
             "#d8576b"
            ],
            [
             0.6666666666666666,
             "#ed7953"
            ],
            [
             0.7777777777777778,
             "#fb9f3a"
            ],
            [
             0.8888888888888888,
             "#fdca26"
            ],
            [
             1,
             "#f0f921"
            ]
           ],
           "sequentialminus": [
            [
             0,
             "#0d0887"
            ],
            [
             0.1111111111111111,
             "#46039f"
            ],
            [
             0.2222222222222222,
             "#7201a8"
            ],
            [
             0.3333333333333333,
             "#9c179e"
            ],
            [
             0.4444444444444444,
             "#bd3786"
            ],
            [
             0.5555555555555556,
             "#d8576b"
            ],
            [
             0.6666666666666666,
             "#ed7953"
            ],
            [
             0.7777777777777778,
             "#fb9f3a"
            ],
            [
             0.8888888888888888,
             "#fdca26"
            ],
            [
             1,
             "#f0f921"
            ]
           ]
          },
          "colorway": [
           "#636efa",
           "#EF553B",
           "#00cc96",
           "#ab63fa",
           "#FFA15A",
           "#19d3f3",
           "#FF6692",
           "#B6E880",
           "#FF97FF",
           "#FECB52"
          ],
          "font": {
           "color": "#2a3f5f"
          },
          "geo": {
           "bgcolor": "white",
           "lakecolor": "white",
           "landcolor": "#E5ECF6",
           "showlakes": true,
           "showland": true,
           "subunitcolor": "white"
          },
          "hoverlabel": {
           "align": "left"
          },
          "hovermode": "closest",
          "mapbox": {
           "style": "light"
          },
          "paper_bgcolor": "white",
          "plot_bgcolor": "#E5ECF6",
          "polar": {
           "angularaxis": {
            "gridcolor": "white",
            "linecolor": "white",
            "ticks": ""
           },
           "bgcolor": "#E5ECF6",
           "radialaxis": {
            "gridcolor": "white",
            "linecolor": "white",
            "ticks": ""
           }
          },
          "scene": {
           "xaxis": {
            "backgroundcolor": "#E5ECF6",
            "gridcolor": "white",
            "gridwidth": 2,
            "linecolor": "white",
            "showbackground": true,
            "ticks": "",
            "zerolinecolor": "white"
           },
           "yaxis": {
            "backgroundcolor": "#E5ECF6",
            "gridcolor": "white",
            "gridwidth": 2,
            "linecolor": "white",
            "showbackground": true,
            "ticks": "",
            "zerolinecolor": "white"
           },
           "zaxis": {
            "backgroundcolor": "#E5ECF6",
            "gridcolor": "white",
            "gridwidth": 2,
            "linecolor": "white",
            "showbackground": true,
            "ticks": "",
            "zerolinecolor": "white"
           }
          },
          "shapedefaults": {
           "line": {
            "color": "#2a3f5f"
           }
          },
          "ternary": {
           "aaxis": {
            "gridcolor": "white",
            "linecolor": "white",
            "ticks": ""
           },
           "baxis": {
            "gridcolor": "white",
            "linecolor": "white",
            "ticks": ""
           },
           "bgcolor": "#E5ECF6",
           "caxis": {
            "gridcolor": "white",
            "linecolor": "white",
            "ticks": ""
           }
          },
          "title": {
           "x": 0.05
          },
          "xaxis": {
           "automargin": true,
           "gridcolor": "white",
           "linecolor": "white",
           "ticks": "",
           "title": {
            "standoff": 15
           },
           "zerolinecolor": "white",
           "zerolinewidth": 2
          },
          "yaxis": {
           "automargin": true,
           "gridcolor": "white",
           "linecolor": "white",
           "ticks": "",
           "title": {
            "standoff": 15
           },
           "zerolinecolor": "white",
           "zerolinewidth": 2
          }
         }
        },
        "title": {
         "text": "Average House Price in London"
        },
        "xaxis": {
         "anchor": "y",
         "domain": [
          0,
          1
         ],
         "title": {
          "text": "year"
         }
        },
        "yaxis": {
         "anchor": "x",
         "domain": [
          0,
          1
         ],
         "title": {
          "text": "mean_price"
         }
        }
       }
      }
     },
     "metadata": {},
     "output_type": "display_data"
    }
   ],
   "source": [
    "import plotly.express as px\n",
    "\n",
    "london_house_prices = price_paid_data.loc[price_paid_data.city=='LONDON']\n",
    "london_house_prices['year'] = pd.DatetimeIndex(london_house_prices['transfer_date']).year\n",
    "london_house_prices = london_house_prices.groupby('year')['price'].mean().reset_index(name ='mean_price')\n",
    "\n",
    "fig = px.line(london_house_prices, x=\"year\", y=\"mean_price\", title='Average House Price in London')\n",
    "fig.show()"
   ]
  },
  {
   "cell_type": "code",
   "execution_count": 14,
   "metadata": {},
   "outputs": [
    {
     "data": {
      "text/plain": [
       "'2023-09-29 00:00'"
      ]
     },
     "execution_count": 14,
     "metadata": {},
     "output_type": "execute_result"
    }
   ],
   "source": [
    "price_paid_data.transfer_date.max()"
   ]
  },
  {
   "attachments": {},
   "cell_type": "markdown",
   "metadata": {},
   "source": [
    "## Analysis Ideas\n",
    "- Find a measure of size and quality\n",
    "    - council tax bracket data?\n",
    "    - size data or number of bedroom data?\n",
    "    - WebScrape RightMove for number of bedroom etc\n",
    "    - Ammeneties density nearby\n",
    "- "
   ]
  },
  {
   "cell_type": "markdown",
   "metadata": {},
   "source": []
  }
 ],
 "metadata": {
  "kernelspec": {
   "display_name": "Python 3",
   "language": "python",
   "name": "python3"
  },
  "language_info": {
   "codemirror_mode": {
    "name": "ipython",
    "version": 3
   },
   "file_extension": ".py",
   "mimetype": "text/x-python",
   "name": "python",
   "nbconvert_exporter": "python",
   "pygments_lexer": "ipython3",
   "version": "3.11.1"
  },
  "orig_nbformat": 4
 },
 "nbformat": 4,
 "nbformat_minor": 2
}
